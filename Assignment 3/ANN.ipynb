{
  "nbformat": 4,
  "nbformat_minor": 0,
  "metadata": {
    "colab": {
      "name": "ANN.ipynb",
      "provenance": [],
      "collapsed_sections": [
        "bxTmGkwBcX8T",
        "zoysIFLmcttE",
        "dvbcp0PBc1VM"
      ]
    },
    "kernelspec": {
      "name": "python3",
      "display_name": "Python 3"
    },
    "language_info": {
      "name": "python"
    },
    "accelerator": "GPU"
  },
  "cells": [
    {
      "cell_type": "markdown",
      "metadata": {
        "id": "cwSpk1B4cSCu"
      },
      "source": [
        "# Task: Use state of art libraries for Approximate Nearest Neighbor Search for your favorite data set."
      ]
    },
    {
      "cell_type": "markdown",
      "metadata": {
        "id": "bxTmGkwBcX8T"
      },
      "source": [
        "## Importing the Libraries"
      ]
    },
    {
      "cell_type": "code",
      "metadata": {
        "id": "Ml-8ApEPcb8i",
        "colab": {
          "base_uri": "https://localhost:8080/"
        },
        "outputId": "9e382c29-aace-4056-c8d4-922dc72ed95a"
      },
      "source": [
        "!pip install nmslib"
      ],
      "execution_count": 2,
      "outputs": [
        {
          "output_type": "stream",
          "name": "stdout",
          "text": [
            "Collecting nmslib\n",
            "  Downloading nmslib-2.1.1-cp37-cp37m-manylinux2010_x86_64.whl (13.5 MB)\n",
            "\u001b[K     |████████████████████████████████| 13.5 MB 9.9 MB/s \n",
            "\u001b[?25hRequirement already satisfied: psutil in /usr/local/lib/python3.7/dist-packages (from nmslib) (5.4.8)\n",
            "Collecting pybind11<2.6.2\n",
            "  Downloading pybind11-2.6.1-py2.py3-none-any.whl (188 kB)\n",
            "\u001b[K     |████████████████████████████████| 188 kB 47.8 MB/s \n",
            "\u001b[?25hRequirement already satisfied: numpy>=1.10.0 in /usr/local/lib/python3.7/dist-packages (from nmslib) (1.19.5)\n",
            "Installing collected packages: pybind11, nmslib\n",
            "Successfully installed nmslib-2.1.1 pybind11-2.6.1\n"
          ]
        }
      ]
    },
    {
      "cell_type": "code",
      "metadata": {
        "id": "g4SAVDOWcjCL",
        "colab": {
          "base_uri": "https://localhost:8080/"
        },
        "outputId": "433c108c-a002-49e6-c951-948e059cd72c"
      },
      "source": [
        "!pip install faiss"
      ],
      "execution_count": 3,
      "outputs": [
        {
          "output_type": "stream",
          "name": "stdout",
          "text": [
            "Collecting faiss\n",
            "  Downloading faiss-1.5.3-cp37-cp37m-manylinux1_x86_64.whl (4.7 MB)\n",
            "\u001b[K     |████████████████████████████████| 4.7 MB 12.1 MB/s \n",
            "\u001b[?25hRequirement already satisfied: numpy in /usr/local/lib/python3.7/dist-packages (from faiss) (1.19.5)\n",
            "Installing collected packages: faiss\n",
            "Successfully installed faiss-1.5.3\n"
          ]
        }
      ]
    },
    {
      "cell_type": "code",
      "metadata": {
        "id": "BcRdxpBscjhE",
        "colab": {
          "base_uri": "https://localhost:8080/"
        },
        "outputId": "6b2a9c34-6f79-4a81-c97b-6d6b05ed5f70"
      },
      "source": [
        "!apt-get install libomp-dev"
      ],
      "execution_count": 4,
      "outputs": [
        {
          "output_type": "stream",
          "name": "stdout",
          "text": [
            "Reading package lists... Done\n",
            "Building dependency tree       \n",
            "Reading state information... Done\n",
            "The following additional packages will be installed:\n",
            "  libomp5\n",
            "Suggested packages:\n",
            "  libomp-doc\n",
            "The following NEW packages will be installed:\n",
            "  libomp-dev libomp5\n",
            "0 upgraded, 2 newly installed, 0 to remove and 37 not upgraded.\n",
            "Need to get 239 kB of archives.\n",
            "After this operation, 804 kB of additional disk space will be used.\n",
            "Get:1 http://archive.ubuntu.com/ubuntu bionic/universe amd64 libomp5 amd64 5.0.1-1 [234 kB]\n",
            "Get:2 http://archive.ubuntu.com/ubuntu bionic/universe amd64 libomp-dev amd64 5.0.1-1 [5,088 B]\n",
            "Fetched 239 kB in 0s (2,831 kB/s)\n",
            "Selecting previously unselected package libomp5:amd64.\n",
            "(Reading database ... 155222 files and directories currently installed.)\n",
            "Preparing to unpack .../libomp5_5.0.1-1_amd64.deb ...\n",
            "Unpacking libomp5:amd64 (5.0.1-1) ...\n",
            "Selecting previously unselected package libomp-dev.\n",
            "Preparing to unpack .../libomp-dev_5.0.1-1_amd64.deb ...\n",
            "Unpacking libomp-dev (5.0.1-1) ...\n",
            "Setting up libomp5:amd64 (5.0.1-1) ...\n",
            "Setting up libomp-dev (5.0.1-1) ...\n",
            "Processing triggers for libc-bin (2.27-3ubuntu1.3) ...\n",
            "/sbin/ldconfig.real: /usr/local/lib/python3.7/dist-packages/ideep4py/lib/libmkldnn.so.0 is not a symbolic link\n",
            "\n"
          ]
        }
      ]
    },
    {
      "cell_type": "code",
      "metadata": {
        "id": "YPFOxmLmcr3b",
        "colab": {
          "base_uri": "https://localhost:8080/"
        },
        "outputId": "124da66f-6e7c-4dd2-97ea-494b49ec8f0f"
      },
      "source": [
        "!pip install annoy"
      ],
      "execution_count": 5,
      "outputs": [
        {
          "output_type": "stream",
          "name": "stdout",
          "text": [
            "Collecting annoy\n",
            "  Downloading annoy-1.17.0.tar.gz (646 kB)\n",
            "\u001b[?25l\r\u001b[K     |▌                               | 10 kB 24.6 MB/s eta 0:00:01\r\u001b[K     |█                               | 20 kB 28.8 MB/s eta 0:00:01\r\u001b[K     |█▌                              | 30 kB 21.1 MB/s eta 0:00:01\r\u001b[K     |██                              | 40 kB 17.6 MB/s eta 0:00:01\r\u001b[K     |██▌                             | 51 kB 13.9 MB/s eta 0:00:01\r\u001b[K     |███                             | 61 kB 12.2 MB/s eta 0:00:01\r\u001b[K     |███▌                            | 71 kB 11.9 MB/s eta 0:00:01\r\u001b[K     |████                            | 81 kB 12.9 MB/s eta 0:00:01\r\u001b[K     |████▋                           | 92 kB 13.7 MB/s eta 0:00:01\r\u001b[K     |█████                           | 102 kB 10.6 MB/s eta 0:00:01\r\u001b[K     |█████▋                          | 112 kB 10.6 MB/s eta 0:00:01\r\u001b[K     |██████                          | 122 kB 10.6 MB/s eta 0:00:01\r\u001b[K     |██████▋                         | 133 kB 10.6 MB/s eta 0:00:01\r\u001b[K     |███████                         | 143 kB 10.6 MB/s eta 0:00:01\r\u001b[K     |███████▋                        | 153 kB 10.6 MB/s eta 0:00:01\r\u001b[K     |████████▏                       | 163 kB 10.6 MB/s eta 0:00:01\r\u001b[K     |████████▋                       | 174 kB 10.6 MB/s eta 0:00:01\r\u001b[K     |█████████▏                      | 184 kB 10.6 MB/s eta 0:00:01\r\u001b[K     |█████████▋                      | 194 kB 10.6 MB/s eta 0:00:01\r\u001b[K     |██████████▏                     | 204 kB 10.6 MB/s eta 0:00:01\r\u001b[K     |██████████▋                     | 215 kB 10.6 MB/s eta 0:00:01\r\u001b[K     |███████████▏                    | 225 kB 10.6 MB/s eta 0:00:01\r\u001b[K     |███████████▋                    | 235 kB 10.6 MB/s eta 0:00:01\r\u001b[K     |████████████▏                   | 245 kB 10.6 MB/s eta 0:00:01\r\u001b[K     |████████████▊                   | 256 kB 10.6 MB/s eta 0:00:01\r\u001b[K     |█████████████▏                  | 266 kB 10.6 MB/s eta 0:00:01\r\u001b[K     |█████████████▊                  | 276 kB 10.6 MB/s eta 0:00:01\r\u001b[K     |██████████████▏                 | 286 kB 10.6 MB/s eta 0:00:01\r\u001b[K     |██████████████▊                 | 296 kB 10.6 MB/s eta 0:00:01\r\u001b[K     |███████████████▏                | 307 kB 10.6 MB/s eta 0:00:01\r\u001b[K     |███████████████▊                | 317 kB 10.6 MB/s eta 0:00:01\r\u001b[K     |████████████████▎               | 327 kB 10.6 MB/s eta 0:00:01\r\u001b[K     |████████████████▊               | 337 kB 10.6 MB/s eta 0:00:01\r\u001b[K     |█████████████████▎              | 348 kB 10.6 MB/s eta 0:00:01\r\u001b[K     |█████████████████▊              | 358 kB 10.6 MB/s eta 0:00:01\r\u001b[K     |██████████████████▎             | 368 kB 10.6 MB/s eta 0:00:01\r\u001b[K     |██████████████████▊             | 378 kB 10.6 MB/s eta 0:00:01\r\u001b[K     |███████████████████▎            | 389 kB 10.6 MB/s eta 0:00:01\r\u001b[K     |███████████████████▊            | 399 kB 10.6 MB/s eta 0:00:01\r\u001b[K     |████████████████████▎           | 409 kB 10.6 MB/s eta 0:00:01\r\u001b[K     |████████████████████▉           | 419 kB 10.6 MB/s eta 0:00:01\r\u001b[K     |█████████████████████▎          | 430 kB 10.6 MB/s eta 0:00:01\r\u001b[K     |█████████████████████▉          | 440 kB 10.6 MB/s eta 0:00:01\r\u001b[K     |██████████████████████▎         | 450 kB 10.6 MB/s eta 0:00:01\r\u001b[K     |██████████████████████▉         | 460 kB 10.6 MB/s eta 0:00:01\r\u001b[K     |███████████████████████▎        | 471 kB 10.6 MB/s eta 0:00:01\r\u001b[K     |███████████████████████▉        | 481 kB 10.6 MB/s eta 0:00:01\r\u001b[K     |████████████████████████▍       | 491 kB 10.6 MB/s eta 0:00:01\r\u001b[K     |████████████████████████▉       | 501 kB 10.6 MB/s eta 0:00:01\r\u001b[K     |█████████████████████████▍      | 512 kB 10.6 MB/s eta 0:00:01\r\u001b[K     |█████████████████████████▉      | 522 kB 10.6 MB/s eta 0:00:01\r\u001b[K     |██████████████████████████▍     | 532 kB 10.6 MB/s eta 0:00:01\r\u001b[K     |██████████████████████████▉     | 542 kB 10.6 MB/s eta 0:00:01\r\u001b[K     |███████████████████████████▍    | 552 kB 10.6 MB/s eta 0:00:01\r\u001b[K     |███████████████████████████▉    | 563 kB 10.6 MB/s eta 0:00:01\r\u001b[K     |████████████████████████████▍   | 573 kB 10.6 MB/s eta 0:00:01\r\u001b[K     |█████████████████████████████   | 583 kB 10.6 MB/s eta 0:00:01\r\u001b[K     |█████████████████████████████▍  | 593 kB 10.6 MB/s eta 0:00:01\r\u001b[K     |██████████████████████████████  | 604 kB 10.6 MB/s eta 0:00:01\r\u001b[K     |██████████████████████████████▍ | 614 kB 10.6 MB/s eta 0:00:01\r\u001b[K     |███████████████████████████████ | 624 kB 10.6 MB/s eta 0:00:01\r\u001b[K     |███████████████████████████████▍| 634 kB 10.6 MB/s eta 0:00:01\r\u001b[K     |████████████████████████████████| 645 kB 10.6 MB/s eta 0:00:01\r\u001b[K     |████████████████████████████████| 646 kB 10.6 MB/s \n",
            "\u001b[?25hBuilding wheels for collected packages: annoy\n",
            "  Building wheel for annoy (setup.py) ... \u001b[?25l\u001b[?25hdone\n",
            "  Created wheel for annoy: filename=annoy-1.17.0-cp37-cp37m-linux_x86_64.whl size=391607 sha256=9796aaa071c2bce19bb041c39aad8d06d5956c48f1e2c7a62655df83e58159f8\n",
            "  Stored in directory: /root/.cache/pip/wheels/4f/e8/1e/7cc9ebbfa87a3b9f8ba79408d4d31831d67eea918b679a4c07\n",
            "Successfully built annoy\n",
            "Installing collected packages: annoy\n",
            "Successfully installed annoy-1.17.0\n"
          ]
        }
      ]
    },
    {
      "cell_type": "code",
      "metadata": {
        "id": "zkdkpz0b8TyW"
      },
      "source": [
        "import numpy as np\n",
        "import matplotlib.pyplot as plt\n",
        "from sklearn.datasets import load_digits"
      ],
      "execution_count": 6,
      "outputs": []
    },
    {
      "cell_type": "markdown",
      "metadata": {
        "id": "zoysIFLmcttE"
      },
      "source": [
        "## Loading and Understanding the Dataset"
      ]
    },
    {
      "cell_type": "code",
      "metadata": {
        "colab": {
          "base_uri": "https://localhost:8080/"
        },
        "id": "iqFBrQ1C8YC5",
        "outputId": "7b20ae04-269c-4861-8698-f60273c09b92"
      },
      "source": [
        "digits = load_digits(n_class = 9)\n",
        "X = digits.data\n",
        "y = digits.target\n",
        "n_samples, n_features = X.shape\n",
        "X.shape"
      ],
      "execution_count": 8,
      "outputs": [
        {
          "output_type": "execute_result",
          "data": {
            "text/plain": [
              "(1617, 64)"
            ]
          },
          "metadata": {},
          "execution_count": 8
        }
      ]
    },
    {
      "cell_type": "code",
      "metadata": {
        "colab": {
          "base_uri": "https://localhost:8080/",
          "height": 400
        },
        "id": "6BnNUDii8b_G",
        "outputId": "bbf267d7-2d18-4fe2-ef7d-be29278fe5ee"
      },
      "source": [
        "fig, axs = plt.subplots(nrows = 10, ncols = 10, figsize = (6, 6))\n",
        "for idx, ax in enumerate(axs.ravel()):\n",
        "    ax.imshow(X[idx].reshape((8, 8)), cmap = plt.cm.binary)\n",
        "    ax.axis(\"off\")\n",
        "_ = fig.suptitle(\"Digits dataset\", fontsize = 16)"
      ],
      "execution_count": 9,
      "outputs": [
        {
          "output_type": "display_data",
          "data": {
            "image/png": "[encoded data removed]",
            "text/plain": [
              "<Figure size 432x432 with 100 Axes>"
            ]
          },
          "metadata": {
            "needs_background": "light"
          }
        }
      ]
    },
    {
      "cell_type": "markdown",
      "metadata": {
        "id": "dvbcp0PBc1VM"
      },
      "source": [
        "## Transforming the Data"
      ]
    },
    {
      "cell_type": "code",
      "metadata": {
        "colab": {
          "base_uri": "https://localhost:8080/"
        },
        "id": "Urob0WYv8cgG",
        "outputId": "bcc0457e-cc4c-4ce6-ab17-2c0b7f856767"
      },
      "source": [
        "from sklearn.manifold import TSNE\n",
        "\n",
        "tsne_2 = TSNE()\n",
        "data_embeddings_tsne_2 = tsne_2.fit_transform(X)\n"
      ],
      "execution_count": 10,
      "outputs": [
        {
          "output_type": "stream",
          "name": "stderr",
          "text": [
            "/usr/local/lib/python3.7/dist-packages/sklearn/manifold/_t_sne.py:783: FutureWarning: The default initialization in TSNE will change from 'random' to 'pca' in 1.2.\n",
            "  FutureWarning,\n",
            "/usr/local/lib/python3.7/dist-packages/sklearn/manifold/_t_sne.py:793: FutureWarning: The default learning rate in TSNE will change from 200.0 to 'auto' in 1.2.\n",
            "  FutureWarning,\n"
          ]
        }
      ]
    },
    {
      "cell_type": "code",
      "metadata": {
        "colab": {
          "base_uri": "https://localhost:8080/"
        },
        "id": "P9Cbw67N9Cax",
        "outputId": "a7524755-978e-46ef-ac86-8ba1fb564de8"
      },
      "source": [
        "data_embeddings_tsne_2.shape"
      ],
      "execution_count": 11,
      "outputs": [
        {
          "output_type": "execute_result",
          "data": {
            "text/plain": [
              "(1617, 2)"
            ]
          },
          "metadata": {},
          "execution_count": 11
        }
      ]
    },
    {
      "cell_type": "markdown",
      "metadata": {
        "id": "x48JKF4iz93d"
      },
      "source": [
        "## Hierarchical Navigable Small Worlds (HNSW)"
      ]
    },
    {
      "cell_type": "code",
      "metadata": {
        "id": "-T63GvIDv2CQ"
      },
      "source": [
        "import nmslib"
      ],
      "execution_count": 12,
      "outputs": []
    },
    {
      "cell_type": "code",
      "metadata": {
        "id": "rdQh9xxJv5OM"
      },
      "source": [
        "hnsw_index = nmslib.init(method = 'hnsw', space = 'cosinesimil')\n",
        "hnsw_index.addDataPointBatch(data_embeddings_tsne_2)\n",
        "hnsw_index.createIndex({'post': 2})"
      ],
      "execution_count": 13,
      "outputs": []
    },
    {
      "cell_type": "code",
      "metadata": {
        "colab": {
          "base_uri": "https://localhost:8080/"
        },
        "id": "o1vWLxlowve9",
        "outputId": "08d6061a-f978-4b97-ad76-2f6f06b37af0"
      },
      "source": [
        "y[80]"
      ],
      "execution_count": 14,
      "outputs": [
        {
          "output_type": "execute_result",
          "data": {
            "text/plain": [
              "6"
            ]
          },
          "metadata": {},
          "execution_count": 14
        }
      ]
    },
    {
      "cell_type": "code",
      "metadata": {
        "colab": {
          "base_uri": "https://localhost:8080/"
        },
        "id": "xxjwtA0Ox549",
        "outputId": "b65c316a-9bc7-46d8-a964-59d3b7b50766"
      },
      "source": [
        "hnsw_output = hnsw_index.knnQuery(data_embeddings_tsne_2[80], k = 10)\n",
        "hnsw_output_list = [y[i] for i in hnsw_output[0]]\n",
        "hnsw_output_list"
      ],
      "execution_count": 15,
      "outputs": [
        {
          "output_type": "execute_result",
          "data": {
            "text/plain": [
              "[6, 6, 6, 6, 6, 6, 6, 6, 6, 6]"
            ]
          },
          "metadata": {},
          "execution_count": 15
        }
      ]
    },
    {
      "cell_type": "markdown",
      "metadata": {
        "id": "5Jt-bzOUAXMt"
      },
      "source": [
        "## Exhaustive Search"
      ]
    },
    {
      "cell_type": "markdown",
      "metadata": {
        "id": "V8IdBhPMXTTX"
      },
      "source": [
        "This technique will help to find similar objects in the dataset using faiss library."
      ]
    },
    {
      "cell_type": "code",
      "metadata": {
        "id": "D2ZWf0lb3Ej2"
      },
      "source": [
        "import faiss"
      ],
      "execution_count": 16,
      "outputs": []
    },
    {
      "cell_type": "code",
      "metadata": {
        "id": "umAs5zCA_WRF"
      },
      "source": [
        "exhaustive_search = faiss.IndexFlatL2(data_embeddings_tsne_2.shape[1])\n",
        "exhaustive_search.add(data_embeddings_tsne_2)"
      ],
      "execution_count": 17,
      "outputs": []
    },
    {
      "cell_type": "code",
      "metadata": {
        "id": "XSk6zBqh_qAY"
      },
      "source": [
        "distances, indices = exhaustive_search.search(data_embeddings_tsne_2[80:81], 10) \n",
        "exhaustive_search_output_list = [y[i] for i in indices[0]]"
      ],
      "execution_count": 18,
      "outputs": []
    },
    {
      "cell_type": "markdown",
      "metadata": {
        "id": "4SKGxs7AXFSx"
      },
      "source": [
        "Now, it's easy to search similar values as indices[0]."
      ]
    },
    {
      "cell_type": "code",
      "metadata": {
        "colab": {
          "base_uri": "https://localhost:8080/"
        },
        "id": "HcsqGgE4_8YH",
        "outputId": "6b66be98-2d84-45ba-a27e-a64fdea4a104"
      },
      "source": [
        "exhaustive_search_output_list"
      ],
      "execution_count": 19,
      "outputs": [
        {
          "output_type": "execute_result",
          "data": {
            "text/plain": [
              "[6, 6, 6, 6, 6, 6, 6, 6, 6, 6]"
            ]
          },
          "metadata": {},
          "execution_count": 19
        }
      ]
    },
    {
      "cell_type": "markdown",
      "metadata": {
        "id": "2Em_QszfXnLX"
      },
      "source": [
        "It's showing the exact search."
      ]
    },
    {
      "cell_type": "markdown",
      "metadata": {
        "id": "WZ5mUtJyAf5G"
      },
      "source": [
        "## Product Quantization"
      ]
    },
    {
      "cell_type": "code",
      "metadata": {
        "id": "SFqgM6JnAuak"
      },
      "source": [
        "number_of_partition = 8\n",
        "search_in_x_partitions = 2\n",
        "subvector_size = 8\n",
        "\n",
        "pq_quantizer = faiss.IndexFlatL2(data_embeddings_tsne_2.shape[1])\n",
        "pq = faiss.IndexIVFPQ(pq_quantizer, data_embeddings_tsne_2.shape[1], number_of_partition, search_in_x_partitions, subvector_size)\n",
        "pq.train(data_embeddings_tsne_2)\n",
        "pq.add(data_embeddings_tsne_2)"
      ],
      "execution_count": 20,
      "outputs": []
    },
    {
      "cell_type": "code",
      "metadata": {
        "colab": {
          "base_uri": "https://localhost:8080/"
        },
        "id": "-X0Ga6oWBXic",
        "outputId": "90b5dd19-8cb2-44db-ca52-2ba4f4bfdb65"
      },
      "source": [
        "distances, indices = pq.search(data_embeddings_tsne_2[90:91], 10) \n",
        "pq_output_list =  [y[i] for i in indices[0]]\n",
        "pq_output_list"
      ],
      "execution_count": 21,
      "outputs": [
        {
          "output_type": "execute_result",
          "data": {
            "text/plain": [
              "[1, 1, 1, 1, 1, 1, 1, 1, 1, 1]"
            ]
          },
          "metadata": {},
          "execution_count": 21
        }
      ]
    },
    {
      "cell_type": "markdown",
      "metadata": {
        "id": "naRhO7ajcw-V"
      },
      "source": [
        "It's showing the exact search."
      ]
    },
    {
      "cell_type": "markdown",
      "metadata": {
        "id": "Y6PAfZ4NEHUN"
      },
      "source": [
        "## Locality Sensitive Hashing (LSH)"
      ]
    },
    {
      "cell_type": "code",
      "metadata": {
        "id": "FjvoJMJtEJyd"
      },
      "source": [
        "lsh = faiss.IndexLSH(data_embeddings_tsne_2.shape[1], 4)\n",
        "lsh.add(data_embeddings_tsne_2)"
      ],
      "execution_count": 22,
      "outputs": []
    },
    {
      "cell_type": "code",
      "metadata": {
        "colab": {
          "base_uri": "https://localhost:8080/"
        },
        "id": "VV_75hP6F5eM",
        "outputId": "1fda9561-f89a-4c8f-f9cb-a865f6de3f3a"
      },
      "source": [
        "distances, indices = lsh.search(data_embeddings_tsne_2[80:81], k=10)\n",
        "lsh_output_list =  [y[i] for i in indices[0]]\n",
        "lsh_output_list"
      ],
      "execution_count": 23,
      "outputs": [
        {
          "output_type": "execute_result",
          "data": {
            "text/plain": [
              "[6, 6, 1, 1, 6, 6, 1, 1, 1, 1]"
            ]
          },
          "metadata": {},
          "execution_count": 23
        }
      ]
    },
    {
      "cell_type": "markdown",
      "metadata": {
        "id": "hJQWgiTqbNyV"
      },
      "source": [
        "It's showing the similar search not the exact search."
      ]
    },
    {
      "cell_type": "markdown",
      "metadata": {
        "id": "sJlk43a7OYXd"
      },
      "source": [
        "## Trees and Graphs"
      ]
    },
    {
      "cell_type": "markdown",
      "metadata": {
        "id": "llT4e4ncZT5u"
      },
      "source": [
        "One of the most prominient application of Tree-based application ANN is Annoy."
      ]
    },
    {
      "cell_type": "markdown",
      "metadata": {
        "id": "o51LxJqPZEwN"
      },
      "source": [
        "In Annoy, in order to construct the index we create a forest (aka many trees) Each tree is constructed in the following way, we pick two points at random and split the space into two by their hyperplane, we keep splitting into the subspaces recursively until the points associated with a node is small enough."
      ]
    },
    {
      "cell_type": "code",
      "metadata": {
        "id": "sFPNj9B-IclG"
      },
      "source": [
        "import annoy"
      ],
      "execution_count": 24,
      "outputs": []
    },
    {
      "cell_type": "code",
      "metadata": {
        "colab": {
          "base_uri": "https://localhost:8080/"
        },
        "id": "LubLMFZxI1xv",
        "outputId": "73b175cb-394c-47ef-a45d-5aa93d6511fc"
      },
      "source": [
        "number_of_trees = 5\n",
        "annoy_index = annoy.AnnoyIndex(data_embeddings_tsne_2.shape[1])\n",
        "for i, vec in enumerate(data_embeddings_tsne_2):\n",
        "  annoy_index.add_item(i, vec.tolist())\n",
        "annoy_index.build(number_of_trees)"
      ],
      "execution_count": 25,
      "outputs": [
        {
          "output_type": "stream",
          "name": "stderr",
          "text": [
            "/usr/local/lib/python3.7/dist-packages/ipykernel_launcher.py:2: FutureWarning: The default argument for metric will be removed in future version of Annoy. Please pass metric='angular' explicitly.\n",
            "  \n"
          ]
        },
        {
          "output_type": "execute_result",
          "data": {
            "text/plain": [
              "True"
            ]
          },
          "metadata": {},
          "execution_count": 25
        }
      ]
    },
    {
      "cell_type": "code",
      "metadata": {
        "id": "FNVmQpEJJM7-"
      },
      "source": [
        "annoy_indices = annoy_index.get_nns_by_vector(data_embeddings_tsne_2[90].tolist(), 10)\n",
        "annoy_output_list = [y[i] for i in annoy_indices]"
      ],
      "execution_count": 26,
      "outputs": []
    },
    {
      "cell_type": "code",
      "metadata": {
        "colab": {
          "base_uri": "https://localhost:8080/"
        },
        "id": "Sq6SxeNEJtey",
        "outputId": "ea351bed-0209-4e68-8492-a5e0bde7fb71"
      },
      "source": [
        "annoy_output_list"
      ],
      "execution_count": 27,
      "outputs": [
        {
          "output_type": "execute_result",
          "data": {
            "text/plain": [
              "[1, 1, 1, 1, 1, 1, 1, 1, 1, 1]"
            ]
          },
          "metadata": {},
          "execution_count": 27
        }
      ]
    },
    {
      "cell_type": "markdown",
      "metadata": {
        "id": "4wSi_akUaLCG"
      },
      "source": [
        "It's showing the exact search."
      ]
    },
    {
      "cell_type": "code",
      "metadata": {
        "id": "WE1utztgcK2d",
        "colab": {
          "base_uri": "https://localhost:8080/"
        },
        "outputId": "9753b60f-dec0-4dfa-ad05-881750666f45"
      },
      "source": [
        "graph_index = faiss.IndexHNSWFlat(data_embeddings_tsne_2.shape[1], 10)\n",
        "graph_index.add(data_embeddings_tsne_2)\n",
        "\n",
        "distances, indices = graph_index.search(data_embeddings_tsne_2[90:91], k=10)\n",
        "graph_output_list = [y[i] for i in indices[0]]\n",
        "graph_output_list"
      ],
      "execution_count": 28,
      "outputs": [
        {
          "output_type": "execute_result",
          "data": {
            "text/plain": [
              "[1, 1, 1, 1, 1, 1, 1, 1, 1, 1]"
            ]
          },
          "metadata": {},
          "execution_count": 28
        }
      ]
    },
    {
      "cell_type": "markdown",
      "metadata": {
        "id": "xsqftwJWaJ_O"
      },
      "source": [
        "It's showing the exact search."
      ]
    }
  ]
}