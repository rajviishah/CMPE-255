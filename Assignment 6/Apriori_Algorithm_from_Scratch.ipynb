{
  "nbformat": 4,
  "nbformat_minor": 0,
  "metadata": {
    "colab": {
      "name": "Apriori Algorithm from Scratch.ipynb",
      "provenance": []
    },
    "kernelspec": {
      "name": "python3",
      "display_name": "Python 3"
    },
    "language_info": {
      "name": "python"
    }
  },
  "cells": [
    {
      "cell_type": "markdown",
      "source": [
        "# **Apriori Algorithm from Scratch**"
      ],
      "metadata": {
        "id": "VjK-fkjZHD35"
      }
    },
    {
      "cell_type": "markdown",
      "source": [
        "**Loading libraries**"
      ],
      "metadata": {
        "id": "nl_vQthTID3V"
      }
    },
    {
      "cell_type": "code",
      "execution_count": 1,
      "metadata": {
        "id": "oveVNhb2G-tB"
      },
      "outputs": [],
      "source": [
        "import csv\n",
        "from itertools import combinations"
      ]
    },
    {
      "cell_type": "markdown",
      "source": [
        "Reading the data"
      ],
      "metadata": {
        "id": "G6VaKN1PIMsQ"
      }
    },
    {
      "cell_type": "code",
      "source": [
        "def read_data(file_loc='GroceryStoreDataSet.csv'):\n",
        "    trans = dict()\n",
        "    with open(file_loc) as f:\n",
        "        filedata = csv.reader(f, delimiter=',')\n",
        "        count = 0\n",
        "        for line in filedata:\n",
        "            count += 1\n",
        "            trans[count] = list(set(line))\n",
        "    return trans\n",
        "  "
      ],
      "metadata": {
        "id": "8scj0nd_IM_u"
      },
      "execution_count": 2,
      "outputs": []
    },
    {
      "cell_type": "markdown",
      "source": [
        "**Function to count the frequency of items in the dataset**"
      ],
      "metadata": {
        "id": "XIqyNEPAIW9n"
      }
    },
    {
      "cell_type": "code",
      "source": [
        "def frequence(items_lst, trans, check=False):\n",
        "    items_counts = dict()\n",
        "    for i in items_lst:\n",
        "        temp_i = {i}\n",
        "        if check:\n",
        "            temp_i = set(i)\n",
        "        for j in trans.items():\n",
        "            if temp_i.issubset(set(j[1])):\n",
        "                if i in items_counts:\n",
        "                    items_counts[i] += 1\n",
        "                else:\n",
        "                    items_counts[i] = 1\n",
        "    return items_counts\n",
        "    "
      ],
      "metadata": {
        "id": "TEOqQwoYIZre"
      },
      "execution_count": 3,
      "outputs": []
    },
    {
      "cell_type": "markdown",
      "source": [
        "**Function to compute support**"
      ],
      "metadata": {
        "id": "nzP1MdjpImBJ"
      }
    },
    {
      "cell_type": "code",
      "source": [
        "def support(items_counts, trans):\n",
        "    support = dict()\n",
        "    total_trans = len(trans)\n",
        "    for i in items_counts:\n",
        "        support[i] = items_counts[i]/total_trans\n",
        "    return support\n",
        "  "
      ],
      "metadata": {
        "id": "isvlbvr9IZsc"
      },
      "execution_count": 4,
      "outputs": []
    },
    {
      "cell_type": "markdown",
      "source": [
        "**Function to find the association rules based on the support**"
      ],
      "metadata": {
        "id": "-sPg1bWLJLZD"
      }
    },
    {
      "cell_type": "code",
      "source": [
        "def association_rules(items_grater_then_min_support):\n",
        "    rules = []\n",
        "    dict_rules = {}\n",
        "    for i in items_grater_then_min_support:\n",
        "        dict_rules = {}\n",
        "        if type(i) != type(str()):\n",
        "            i = list(i)\n",
        "            temp_i = i[:]\n",
        "            for j in range(len(i)):\n",
        "                k = temp_i[j]\n",
        "                del temp_i[j]\n",
        "                dict_rules[k] = temp_i\n",
        "                temp_i = i[:]\n",
        "        rules.append(dict_rules)\n",
        "    temp = []\n",
        "    for i in rules:\n",
        "        for j in i.items():\n",
        "            if type(j[1]) != type(str()):\n",
        "                temp.append({tuple(j[1])[0]: j[0]})\n",
        "            else:\n",
        "                temp.append({j[1]: j[0]})\n",
        "    rules.extend(temp)\n",
        "    return rules"
      ],
      "metadata": {
        "id": "GBr6ugKoIvCB"
      },
      "execution_count": 5,
      "outputs": []
    },
    {
      "cell_type": "markdown",
      "source": [
        "**Function to compute confidence**"
      ],
      "metadata": {
        "id": "Og4V7QWWJWJ2"
      }
    },
    {
      "cell_type": "code",
      "source": [
        "def confidence(associations, d, min_confidence):\n",
        "    ans = {}\n",
        "    for i in associations:\n",
        "        for j in i.items():\n",
        "            if type(j[0]) == type(str()):\n",
        "                left = {j[0]}\n",
        "            else:\n",
        "                left = set(j[0])\n",
        "            if type(j[1]) == type(str()):\n",
        "                right = {j[1]}\n",
        "            else:\n",
        "                right = set(j[1])\n",
        "            for k in d:\n",
        "                if type(k) != type(str()):\n",
        "                    if left.union(right) - set(k) == set():\n",
        "                        up = d[k]\n",
        "                    if len(right) == len(set(k)) and right - set(k) == set():\n",
        "                            down = d[k]\n",
        "                else:\n",
        "                    if len(right) >= len({k}):\n",
        "                        if right - {k} == set():\n",
        "                            down = d[k]\n",
        "                    elif len(right) <= len({k}):\n",
        "                        if {k} - right == set():\n",
        "                            down = d[k]\n",
        "            if up/down >= min_confidence:\n",
        "                ans[tuple(left)[0]] = right, up/down, up, down\n",
        "    print(ans)    \n"
      ],
      "metadata": {
        "id": "09Qa50_iJWbQ"
      },
      "execution_count": 6,
      "outputs": []
    },
    {
      "cell_type": "markdown",
      "source": [
        "**Main Function**"
      ],
      "metadata": {
        "id": "zs2j70o9Jk3O"
      }
    },
    {
      "cell_type": "code",
      "source": [
        "def main(min_support, min_confidence, file_loc):\n",
        "    \n",
        "    trans = read_data()\n",
        "    number_of_trans = [len(i) for i in trans.values()]\n",
        "    items_lst = set()\n",
        "    \n",
        "    itemcount_track = list()    \n",
        "    \n",
        "    for i in trans.values():\n",
        "        for j in i:\n",
        "            items_lst.add(j)\n",
        "    \n",
        "    store_item_lst = list(items_lst)[:]\n",
        "    items_grater_then_min_support = list()\n",
        "    items_counts = frequence(items_lst, trans)\n",
        "    itemcount_track.append(items_counts)\n",
        "    items_grater_then_min_support.append({j[0]:j[1] for j in support(items_counts, trans).items() if j[1]>min_support})\n",
        "    \n",
        "    for i in range(2, max(number_of_trans)+1):\n",
        "        item_list = combinations(items_lst, i)\n",
        "        items_counts = frequence(item_list, trans, check=True)\n",
        "        itemcount_track.append(items_counts)\n",
        "        if list({j[0]:j[1] for j in support(items_counts, trans).items() if j[1]>min_support}.keys()) != []:\n",
        "            items_grater_then_min_support.append({j[0]:j[1] for j in support(items_counts, trans).items() if j[1]>min_support})\n",
        "        \n",
        "    d = {}\n",
        "    {d.update(i) for i in itemcount_track}\n",
        "    associations = association_rules(items_grater_then_min_support[len(items_grater_then_min_support)-1])\n",
        "    associations_grater_then_confidene = confidence(associations, d, min_confidence)\n",
        "    \n",
        "    \n",
        "\n",
        "main(0.01, 0.7, 'GroceryStoreDataSet.csv')"
      ],
      "metadata": {
        "colab": {
          "base_uri": "https://localhost:8080/"
        },
        "id": "QW9buWUpJlCr",
        "outputId": "71d3bc57-66a7-49ae-e293-666e521c6efd"
      },
      "execution_count": 7,
      "outputs": [
        {
          "output_type": "stream",
          "name": "stdout",
          "text": [
            "{'TEA': ({'CORNFLAKES', 'MILK', 'COFFEE'}, 1.0, 1, 1), 'MAGGI': ({'JAM', 'BREAD', 'MILK'}, 1.0, 1, 1), 'BISCUIT': ({'CORNFLAKES', 'COFFEE', 'COCK'}, 1.0, 2, 2), 'BREAD': ({'JAM', 'MILK', 'MAGGI'}, 1.0, 1, 1), 'MILK': ({'CORNFLAKES', 'COFFEE', 'TEA'}, 1.0, 1, 1), 'COCK': ({'CORNFLAKES', 'BISCUIT', 'COFFEE'}, 1.0, 2, 2), 'COFFEE': ({'MILK', 'CORNFLAKES', 'TEA'}, 1.0, 1, 1), 'CORNFLAKES': ({'MILK', 'COFFEE', 'TEA'}, 1.0, 1, 1), 'JAM': ({'BREAD', 'MILK', 'MAGGI'}, 1.0, 1, 1)}\n"
          ]
        }
      ]
    },
    {
      "cell_type": "code",
      "source": [
        ""
      ],
      "metadata": {
        "id": "SpiL9AQlJzvo"
      },
      "execution_count": null,
      "outputs": []
    }
  ]
}