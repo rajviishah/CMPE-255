{
  "nbformat": 4,
  "nbformat_minor": 0,
  "metadata": {
    "colab": {
      "name": "US_Trending_Videos_EDA&Data-Cleaning.ipynb",
      "provenance": []
    },
    "kernelspec": {
      "name": "python3",
      "display_name": "Python 3"
    },
    "language_info": {
      "name": "python"
    }
  },
  "cells": [
    {
      "cell_type": "markdown",
      "metadata": {
        "id": "ZEUFmsga0Clg"
      },
      "source": [
        "# **Trending YouTube Video Statistics**"
      ]
    },
    {
      "cell_type": "markdown",
      "metadata": {
        "id": "51ldiF0Tz755"
      },
      "source": [
        "Dataset:- https://www.kaggle.com/datasnaek/youtube-new"
      ]
    },
    {
      "cell_type": "markdown",
      "metadata": {
        "id": "i_uhTpV8VRVN"
      },
      "source": [
        "**About Dataset:-**\n",
        "\n",
        "There are two kinds of data files, one includes comments and one includes video statistics. They are linked by the unique video_id field.\n",
        "\n",
        "**The headers in the video file are:**\n",
        "\n",
        "- video_id (Common id field to both comment and video csv files)\n",
        "- title\n",
        "- channel_title\n",
        "- category_id (Can be looked up using the included JSON files, but varies per region so use the appropriate JSON file for the CSV file's country)\n",
        "- tags (Separated by | character, [none] is displayed if there are no tags)\n",
        "- views\n",
        "- likes\n",
        "- dislikes\n",
        "- thumbnail_link\n",
        "- date (Formatted like so: [day].[month])\n",
        "\n",
        "**The headers in the comments file are:**\n",
        "\n",
        "- video_id (Common id field to both comment and video csv files)\n",
        "- comment_text\n",
        "- likes\n",
        "- replies"
      ]
    },
    {
      "cell_type": "markdown",
      "metadata": {
        "id": "Fnk3EevXkoQB"
      },
      "source": [
        "Goal: \n",
        "- Data Cleaning and Preprocessing\n",
        "\n",
        "\n"
      ]
    },
    {
      "cell_type": "code",
      "metadata": {
        "colab": {
          "base_uri": "https://localhost:8080/"
        },
        "id": "eGhg9RGDfcWy",
        "outputId": "410e4354-2111-4446-ba1f-17ba95dbf2fd"
      },
      "source": [
        "!pip install emoji"
      ],
      "execution_count": 66,
      "outputs": [
        {
          "output_type": "stream",
          "name": "stdout",
          "text": [
            "Requirement already satisfied: emoji in /usr/local/lib/python3.7/dist-packages (1.5.0)\n"
          ]
        }
      ]
    },
    {
      "cell_type": "code",
      "metadata": {
        "id": "n-yeRcZgzdFv"
      },
      "source": [
        "#importing libraries\n",
        "\n",
        "%matplotlib inline\n",
        "import warnings\n",
        "warnings.filterwarnings(\"ignore\")\n",
        "\n",
        "import pandas as pd\n",
        "import numpy as np\n",
        "import matplotlib.pyplot as plt\n",
        "import seaborn as sns\n",
        "\n",
        "import re\n",
        "import os\n",
        "from tqdm import tqdm\n",
        "\n",
        "\n",
        "from nltk.corpus import stopwords\n",
        "\n",
        "import plotly.express as px\n",
        "import plotly.figure_factory as ff\n",
        "import plotly.graph_objs as go\n",
        "import plotly\n",
        "from wordcloud import WordCloud, STOPWORDS\n",
        "\n",
        "\n",
        "import json\n",
        "from datetime import datetime"
      ],
      "execution_count": 96,
      "outputs": []
    },
    {
      "cell_type": "code",
      "metadata": {
        "colab": {
          "base_uri": "https://localhost:8080/"
        },
        "id": "A3ewMpZuSZct",
        "outputId": "b09faa24-ed26-4d31-bf17-d6b7125203dd"
      },
      "source": [
        "#reading the data\n",
        "\n",
        "us_videos = pd.read_csv('/content/USvideos.csv', error_bad_lines = False)\n",
        "us_comments = pd.read_csv('/content/UScomments.csv', error_bad_lines = False)"
      ],
      "execution_count": 68,
      "outputs": [
        {
          "output_type": "stream",
          "name": "stderr",
          "text": [
            "b'Skipping line 2401: expected 11 fields, saw 21\\nSkipping line 2800: expected 11 fields, saw 21\\nSkipping line 5297: expected 11 fields, saw 12\\nSkipping line 5299: expected 11 fields, saw 12\\nSkipping line 5300: expected 11 fields, saw 12\\nSkipping line 5301: expected 11 fields, saw 12\\n'\n",
            "b'Skipping line 41589: expected 4 fields, saw 11\\nSkipping line 51628: expected 4 fields, saw 7\\nSkipping line 114465: expected 4 fields, saw 5\\n'\n",
            "b'Skipping line 142496: expected 4 fields, saw 8\\nSkipping line 189732: expected 4 fields, saw 6\\nSkipping line 245218: expected 4 fields, saw 7\\n'\n",
            "b'Skipping line 388430: expected 4 fields, saw 5\\n'\n"
          ]
        }
      ]
    },
    {
      "cell_type": "code",
      "metadata": {
        "colab": {
          "base_uri": "https://localhost:8080/"
        },
        "id": "MLZkrSbjfhYv",
        "outputId": "ab50b98e-b068-403e-cfb8-90e194ace5e8"
      },
      "source": [
        "#checking the number of data-points in the dataset\n",
        "\n",
        "print(\"Number of data points in videos data: \", us_videos.shape)\n",
        "print('-' * 100)\n",
        "print(\"The attributes of videos data: \", us_videos.columns.values)"
      ],
      "execution_count": 69,
      "outputs": [
        {
          "output_type": "stream",
          "name": "stdout",
          "text": [
            "Number of data points in videos data:  (7992, 11)\n",
            "----------------------------------------------------------------------------------------------------\n",
            "The attributes of videos data:  ['video_id' 'title' 'channel_title' 'category_id' 'tags' 'views' 'likes'\n",
            " 'dislikes' 'comment_total' 'thumbnail_link' 'date']\n"
          ]
        }
      ]
    },
    {
      "cell_type": "code",
      "metadata": {
        "colab": {
          "base_uri": "https://localhost:8080/"
        },
        "id": "_JKCuslRjGkS",
        "outputId": "4a9c2d63-a27c-4444-af76-0078af54a453"
      },
      "source": [
        "print(\"Number of data points in comments data: \", us_comments.shape)\n",
        "print('-' * 100)\n",
        "print(\"The attributes of comments data: \", us_comments.columns.values)"
      ],
      "execution_count": 70,
      "outputs": [
        {
          "output_type": "stream",
          "name": "stdout",
          "text": [
            "Number of data points in comments data:  (691400, 4)\n",
            "----------------------------------------------------------------------------------------------------\n",
            "The attributes of comments data:  ['video_id' 'comment_text' 'likes' 'replies']\n"
          ]
        }
      ]
    },
    {
      "cell_type": "code",
      "metadata": {
        "colab": {
          "base_uri": "https://localhost:8080/",
          "height": 469
        },
        "id": "-POLs64mjeBt",
        "outputId": "28df6732-528e-4e3f-e3e0-93336495a6ce"
      },
      "source": [
        "us_videos.head(5)"
      ],
      "execution_count": 71,
      "outputs": [
        {
          "output_type": "execute_result",
          "data": {
            "text/html": [
              "<div>\n",
              "<style scoped>\n",
              "    .dataframe tbody tr th:only-of-type {\n",
              "        vertical-align: middle;\n",
              "    }\n",
              "\n",
              "    .dataframe tbody tr th {\n",
              "        vertical-align: top;\n",
              "    }\n",
              "\n",
              "    .dataframe thead th {\n",
              "        text-align: right;\n",
              "    }\n",
              "</style>\n",
              "<table border=\"1\" class=\"dataframe\">\n",
              "  <thead>\n",
              "    <tr style=\"text-align: right;\">\n",
              "      <th></th>\n",
              "      <th>video_id</th>\n",
              "      <th>title</th>\n",
              "      <th>channel_title</th>\n",
              "      <th>category_id</th>\n",
              "      <th>tags</th>\n",
              "      <th>views</th>\n",
              "      <th>likes</th>\n",
              "      <th>dislikes</th>\n",
              "      <th>comment_total</th>\n",
              "      <th>thumbnail_link</th>\n",
              "      <th>date</th>\n",
              "    </tr>\n",
              "  </thead>\n",
              "  <tbody>\n",
              "    <tr>\n",
              "      <th>0</th>\n",
              "      <td>XpVt6Z1Gjjo</td>\n",
              "      <td>1 YEAR OF VLOGGING -- HOW LOGAN PAUL CHANGED Y...</td>\n",
              "      <td>Logan Paul Vlogs</td>\n",
              "      <td>24</td>\n",
              "      <td>logan paul vlog|logan paul|logan|paul|olympics...</td>\n",
              "      <td>4394029</td>\n",
              "      <td>320053</td>\n",
              "      <td>5931</td>\n",
              "      <td>46245</td>\n",
              "      <td>https://i.ytimg.com/vi/XpVt6Z1Gjjo/default.jpg</td>\n",
              "      <td>13.09</td>\n",
              "    </tr>\n",
              "    <tr>\n",
              "      <th>1</th>\n",
              "      <td>K4wEI5zhHB0</td>\n",
              "      <td>iPhone X — Introducing iPhone X — Apple</td>\n",
              "      <td>Apple</td>\n",
              "      <td>28</td>\n",
              "      <td>Apple|iPhone 10|iPhone Ten|iPhone|Portrait Lig...</td>\n",
              "      <td>7860119</td>\n",
              "      <td>185853</td>\n",
              "      <td>26679</td>\n",
              "      <td>0</td>\n",
              "      <td>https://i.ytimg.com/vi/K4wEI5zhHB0/default.jpg</td>\n",
              "      <td>13.09</td>\n",
              "    </tr>\n",
              "    <tr>\n",
              "      <th>2</th>\n",
              "      <td>cLdxuaxaQwc</td>\n",
              "      <td>My Response</td>\n",
              "      <td>PewDiePie</td>\n",
              "      <td>22</td>\n",
              "      <td>[none]</td>\n",
              "      <td>5845909</td>\n",
              "      <td>576597</td>\n",
              "      <td>39774</td>\n",
              "      <td>170708</td>\n",
              "      <td>https://i.ytimg.com/vi/cLdxuaxaQwc/default.jpg</td>\n",
              "      <td>13.09</td>\n",
              "    </tr>\n",
              "    <tr>\n",
              "      <th>3</th>\n",
              "      <td>WYYvHb03Eog</td>\n",
              "      <td>Apple iPhone X first look</td>\n",
              "      <td>The Verge</td>\n",
              "      <td>28</td>\n",
              "      <td>apple iphone x hands on|Apple iPhone X|iPhone ...</td>\n",
              "      <td>2642103</td>\n",
              "      <td>24975</td>\n",
              "      <td>4542</td>\n",
              "      <td>12829</td>\n",
              "      <td>https://i.ytimg.com/vi/WYYvHb03Eog/default.jpg</td>\n",
              "      <td>13.09</td>\n",
              "    </tr>\n",
              "    <tr>\n",
              "      <th>4</th>\n",
              "      <td>sjlHnJvXdQs</td>\n",
              "      <td>iPhone X (parody)</td>\n",
              "      <td>jacksfilms</td>\n",
              "      <td>23</td>\n",
              "      <td>jacksfilms|parody|parodies|iphone|iphone x|iph...</td>\n",
              "      <td>1168130</td>\n",
              "      <td>96666</td>\n",
              "      <td>568</td>\n",
              "      <td>6666</td>\n",
              "      <td>https://i.ytimg.com/vi/sjlHnJvXdQs/default.jpg</td>\n",
              "      <td>13.09</td>\n",
              "    </tr>\n",
              "  </tbody>\n",
              "</table>\n",
              "</div>"
            ],
            "text/plain": [
              "      video_id  ...   date\n",
              "0  XpVt6Z1Gjjo  ...  13.09\n",
              "1  K4wEI5zhHB0  ...  13.09\n",
              "2  cLdxuaxaQwc  ...  13.09\n",
              "3  WYYvHb03Eog  ...  13.09\n",
              "4  sjlHnJvXdQs  ...  13.09\n",
              "\n",
              "[5 rows x 11 columns]"
            ]
          },
          "metadata": {},
          "execution_count": 71
        }
      ]
    },
    {
      "cell_type": "code",
      "metadata": {
        "colab": {
          "base_uri": "https://localhost:8080/",
          "height": 206
        },
        "id": "gt9InTaNj5wb",
        "outputId": "a5d844d1-b33c-4cca-fbd2-ef1923b1b573"
      },
      "source": [
        "us_comments.head(5)"
      ],
      "execution_count": 72,
      "outputs": [
        {
          "output_type": "execute_result",
          "data": {
            "text/html": [
              "<div>\n",
              "<style scoped>\n",
              "    .dataframe tbody tr th:only-of-type {\n",
              "        vertical-align: middle;\n",
              "    }\n",
              "\n",
              "    .dataframe tbody tr th {\n",
              "        vertical-align: top;\n",
              "    }\n",
              "\n",
              "    .dataframe thead th {\n",
              "        text-align: right;\n",
              "    }\n",
              "</style>\n",
              "<table border=\"1\" class=\"dataframe\">\n",
              "  <thead>\n",
              "    <tr style=\"text-align: right;\">\n",
              "      <th></th>\n",
              "      <th>video_id</th>\n",
              "      <th>comment_text</th>\n",
              "      <th>likes</th>\n",
              "      <th>replies</th>\n",
              "    </tr>\n",
              "  </thead>\n",
              "  <tbody>\n",
              "    <tr>\n",
              "      <th>0</th>\n",
              "      <td>XpVt6Z1Gjjo</td>\n",
              "      <td>Logan Paul it's yo big day ‼️‼️‼️</td>\n",
              "      <td>4</td>\n",
              "      <td>0</td>\n",
              "    </tr>\n",
              "    <tr>\n",
              "      <th>1</th>\n",
              "      <td>XpVt6Z1Gjjo</td>\n",
              "      <td>I've been following you from the start of your...</td>\n",
              "      <td>3</td>\n",
              "      <td>0</td>\n",
              "    </tr>\n",
              "    <tr>\n",
              "      <th>2</th>\n",
              "      <td>XpVt6Z1Gjjo</td>\n",
              "      <td>Say hi to Kong and maverick for me</td>\n",
              "      <td>3</td>\n",
              "      <td>0</td>\n",
              "    </tr>\n",
              "    <tr>\n",
              "      <th>3</th>\n",
              "      <td>XpVt6Z1Gjjo</td>\n",
              "      <td>MY FAN . attendance</td>\n",
              "      <td>3</td>\n",
              "      <td>0</td>\n",
              "    </tr>\n",
              "    <tr>\n",
              "      <th>4</th>\n",
              "      <td>XpVt6Z1Gjjo</td>\n",
              "      <td>trending 😉</td>\n",
              "      <td>3</td>\n",
              "      <td>0</td>\n",
              "    </tr>\n",
              "  </tbody>\n",
              "</table>\n",
              "</div>"
            ],
            "text/plain": [
              "      video_id                                       comment_text likes replies\n",
              "0  XpVt6Z1Gjjo                  Logan Paul it's yo big day ‼️‼️‼️     4       0\n",
              "1  XpVt6Z1Gjjo  I've been following you from the start of your...     3       0\n",
              "2  XpVt6Z1Gjjo                 Say hi to Kong and maverick for me     3       0\n",
              "3  XpVt6Z1Gjjo                                MY FAN . attendance     3       0\n",
              "4  XpVt6Z1Gjjo                                         trending 😉     3       0"
            ]
          },
          "metadata": {},
          "execution_count": 72
        }
      ]
    },
    {
      "cell_type": "code",
      "metadata": {
        "colab": {
          "base_uri": "https://localhost:8080/"
        },
        "id": "T6AGolkSUDkw",
        "outputId": "37ffad5d-9d39-47fd-c705-bdc42da46467"
      },
      "source": [
        "# check if we have any nan values are there\n",
        "\n",
        "print(us_videos['video_id'].isnull().values.any())\n",
        "print(\"number of nan values\", us_videos['video_id'].isnull().values.sum())"
      ],
      "execution_count": 73,
      "outputs": [
        {
          "output_type": "stream",
          "name": "stdout",
          "text": [
            "False\n",
            "number of nan values 0\n"
          ]
        }
      ]
    },
    {
      "cell_type": "code",
      "metadata": {
        "colab": {
          "base_uri": "https://localhost:8080/"
        },
        "id": "gTHsAYwEsk_w",
        "outputId": "5594aaae-d379-43f2-e11a-efb7f0af8c73"
      },
      "source": [
        "print(us_videos['video_id'].isnull().values.any())\n",
        "print(\"number of nan values\", us_videos['video_id'].isnull().values.sum())"
      ],
      "execution_count": 74,
      "outputs": [
        {
          "output_type": "stream",
          "name": "stdout",
          "text": [
            "False\n",
            "number of nan values 0\n"
          ]
        }
      ]
    },
    {
      "cell_type": "code",
      "metadata": {
        "colab": {
          "base_uri": "https://localhost:8080/"
        },
        "id": "DYZwxkFvslnK",
        "outputId": "b2d91996-ae63-4970-8de5-0cc4c44169c0"
      },
      "source": [
        "print(us_videos['title'].isnull().values.any())\n",
        "print(\"number of nan values\", us_videos['title'].isnull().values.sum())"
      ],
      "execution_count": 75,
      "outputs": [
        {
          "output_type": "stream",
          "name": "stdout",
          "text": [
            "False\n",
            "number of nan values 0\n"
          ]
        }
      ]
    },
    {
      "cell_type": "code",
      "metadata": {
        "colab": {
          "base_uri": "https://localhost:8080/"
        },
        "id": "GFVgfD4bslr_",
        "outputId": "8ceae7c4-56f8-40f3-b477-b202b99bdc38"
      },
      "source": [
        "print(us_videos['channel_title'].isnull().values.any())\n",
        "print(\"number of nan values\", us_videos['channel_title'].isnull().values.sum())"
      ],
      "execution_count": 76,
      "outputs": [
        {
          "output_type": "stream",
          "name": "stdout",
          "text": [
            "False\n",
            "number of nan values 0\n"
          ]
        }
      ]
    },
    {
      "cell_type": "code",
      "metadata": {
        "colab": {
          "base_uri": "https://localhost:8080/"
        },
        "id": "9UExIdMgslvX",
        "outputId": "3a86c600-935c-46fe-8e0e-530cfc5f6cf7"
      },
      "source": [
        "print(us_videos['category_id'].isnull().values.any())\n",
        "print(\"number of nan values\", us_videos['category_id'].isnull().values.sum())"
      ],
      "execution_count": 77,
      "outputs": [
        {
          "output_type": "stream",
          "name": "stdout",
          "text": [
            "False\n",
            "number of nan values 0\n"
          ]
        }
      ]
    },
    {
      "cell_type": "code",
      "metadata": {
        "colab": {
          "base_uri": "https://localhost:8080/"
        },
        "id": "B43fBIKislzC",
        "outputId": "64e911bc-7909-480b-d00c-8cc7d22cf2ca"
      },
      "source": [
        "print(us_videos['tags'].isnull().values.any())\n",
        "print(\"number of nan values\", us_videos['tags'].isnull().values.sum())"
      ],
      "execution_count": 78,
      "outputs": [
        {
          "output_type": "stream",
          "name": "stdout",
          "text": [
            "False\n",
            "number of nan values 0\n"
          ]
        }
      ]
    },
    {
      "cell_type": "code",
      "metadata": {
        "colab": {
          "base_uri": "https://localhost:8080/"
        },
        "id": "ArSew9gGsl4q",
        "outputId": "b31b74d3-b08a-4d10-e9b2-00afae7d970e"
      },
      "source": [
        "print(us_videos['views'].isnull().values.any())\n",
        "print(\"number of nan values\", us_videos['views'].isnull().values.sum())"
      ],
      "execution_count": 79,
      "outputs": [
        {
          "output_type": "stream",
          "name": "stdout",
          "text": [
            "False\n",
            "number of nan values 0\n"
          ]
        }
      ]
    },
    {
      "cell_type": "code",
      "metadata": {
        "colab": {
          "base_uri": "https://localhost:8080/"
        },
        "id": "iX0oTpnLs29B",
        "outputId": "b36f11a3-ff99-4df0-ea4d-aa14db7f055a"
      },
      "source": [
        "print(us_videos['likes'].isnull().values.any())\n",
        "print(\"number of nan values\", us_videos['likes'].isnull().values.sum())"
      ],
      "execution_count": 80,
      "outputs": [
        {
          "output_type": "stream",
          "name": "stdout",
          "text": [
            "False\n",
            "number of nan values 0\n"
          ]
        }
      ]
    },
    {
      "cell_type": "code",
      "metadata": {
        "colab": {
          "base_uri": "https://localhost:8080/"
        },
        "id": "oEzIVbQws3Ru",
        "outputId": "37ce0dc0-3ae5-4ad2-8417-a081659b42b0"
      },
      "source": [
        "print(us_videos['dislikes'].isnull().values.any())\n",
        "print(\"number of nan values\", us_videos['dislikes'].isnull().values.sum())"
      ],
      "execution_count": 81,
      "outputs": [
        {
          "output_type": "stream",
          "name": "stdout",
          "text": [
            "False\n",
            "number of nan values 0\n"
          ]
        }
      ]
    },
    {
      "cell_type": "code",
      "metadata": {
        "colab": {
          "base_uri": "https://localhost:8080/"
        },
        "id": "U8ehm7Ips3ZC",
        "outputId": "1332aa81-8640-4ee2-f754-156d4bb64e49"
      },
      "source": [
        "print(us_videos['comment_total'].isnull().values.any())\n",
        "print(\"number of nan values\", us_videos['comment_total'].isnull().values.sum())"
      ],
      "execution_count": 82,
      "outputs": [
        {
          "output_type": "stream",
          "name": "stdout",
          "text": [
            "False\n",
            "number of nan values 0\n"
          ]
        }
      ]
    },
    {
      "cell_type": "code",
      "metadata": {
        "colab": {
          "base_uri": "https://localhost:8080/"
        },
        "id": "CWVoy5BJs3cZ",
        "outputId": "fa1882ad-df87-44fd-bd6a-650713e036d1"
      },
      "source": [
        "print(us_videos['thumbnail_link'].isnull().values.any())\n",
        "print(\"number of nan values\", us_videos['thumbnail_link'].isnull().values.sum())"
      ],
      "execution_count": 83,
      "outputs": [
        {
          "output_type": "stream",
          "name": "stdout",
          "text": [
            "False\n",
            "number of nan values 0\n"
          ]
        }
      ]
    },
    {
      "cell_type": "code",
      "metadata": {
        "colab": {
          "base_uri": "https://localhost:8080/"
        },
        "id": "b435dJwQs3gM",
        "outputId": "af8841d7-b737-4d5e-f3b2-8ffe2c762a5f"
      },
      "source": [
        "print(us_videos['date'].isnull().values.any())\n",
        "print(\"number of nan values\", us_videos['date'].isnull().values.sum())"
      ],
      "execution_count": 84,
      "outputs": [
        {
          "output_type": "stream",
          "name": "stdout",
          "text": [
            "False\n",
            "number of nan values 0\n"
          ]
        }
      ]
    },
    {
      "cell_type": "code",
      "metadata": {
        "colab": {
          "base_uri": "https://localhost:8080/"
        },
        "id": "KUcHu6WvuI64",
        "outputId": "49718fc1-2ef0-4d1f-a868-e66bbfb291fa"
      },
      "source": [
        "print(us_comments['video_id'].isnull().values.any())\n",
        "print(\"number of nan values\", us_comments['video_id'].isnull().values.sum())"
      ],
      "execution_count": 85,
      "outputs": [
        {
          "output_type": "stream",
          "name": "stdout",
          "text": [
            "False\n",
            "number of nan values 0\n"
          ]
        }
      ]
    },
    {
      "cell_type": "code",
      "metadata": {
        "colab": {
          "base_uri": "https://localhost:8080/"
        },
        "id": "lP-9Ov7kuJiL",
        "outputId": "9419f2fa-3168-4ba5-c242-40ab51ab0f86"
      },
      "source": [
        "print(us_comments['comment_text'].isnull().values.any())\n",
        "print(\"number of nan values\", us_comments['comment_text'].isnull().values.sum())"
      ],
      "execution_count": 86,
      "outputs": [
        {
          "output_type": "stream",
          "name": "stdout",
          "text": [
            "True\n",
            "number of nan values 25\n"
          ]
        }
      ]
    },
    {
      "cell_type": "code",
      "metadata": {
        "colab": {
          "base_uri": "https://localhost:8080/"
        },
        "id": "T2F3yQhHuJ-z",
        "outputId": "82bf4068-7937-4fe2-cbab-cfd5fea5146a"
      },
      "source": [
        "print(us_comments['likes'].isnull().values.any())\n",
        "print(\"number of nan values\", us_comments['likes'].isnull().values.sum())"
      ],
      "execution_count": 87,
      "outputs": [
        {
          "output_type": "stream",
          "name": "stdout",
          "text": [
            "False\n",
            "number of nan values 0\n"
          ]
        }
      ]
    },
    {
      "cell_type": "code",
      "metadata": {
        "colab": {
          "base_uri": "https://localhost:8080/"
        },
        "id": "TGfGrVdLuNk4",
        "outputId": "2f40117e-700b-405c-c866-dd6827a5a439"
      },
      "source": [
        "print(us_comments['replies'].isnull().values.any())\n",
        "print(\"number of nan values\", us_comments['replies'].isnull().values.sum())"
      ],
      "execution_count": 88,
      "outputs": [
        {
          "output_type": "stream",
          "name": "stdout",
          "text": [
            "False\n",
            "number of nan values 0\n"
          ]
        }
      ]
    },
    {
      "cell_type": "markdown",
      "metadata": {
        "id": "tYfUFgBFkWRZ"
      },
      "source": [
        "First, working on us_videos data for analysing what factors affects popularity of a YouTube video by Exploratory Data Analysis and Data Cleaning of an individual feature."
      ]
    },
    {
      "cell_type": "code",
      "metadata": {
        "colab": {
          "base_uri": "https://localhost:8080/"
        },
        "id": "DicnBb7pj93X",
        "outputId": "6f00d4ff-2db3-4d33-967e-05704e1d6aa7"
      },
      "source": [
        "us_videos['video_id'].unique()"
      ],
      "execution_count": 89,
      "outputs": [
        {
          "output_type": "execute_result",
          "data": {
            "text/plain": [
              "array(['XpVt6Z1Gjjo', 'K4wEI5zhHB0', 'cLdxuaxaQwc', ..., 'c74FjEqhCsc',\n",
              "       'a5NIg5yyHWo', '3VSa-oARk-w'], dtype=object)"
            ]
          },
          "metadata": {},
          "execution_count": 89
        }
      ]
    },
    {
      "cell_type": "code",
      "metadata": {
        "colab": {
          "base_uri": "https://localhost:8080/"
        },
        "id": "vADjsjr5mCX7",
        "outputId": "00189439-501c-4281-e1d2-131159653586"
      },
      "source": [
        "#us_videos.groupby('video_id')['video_id'].nunique()\n",
        "us_videos_uni = us_videos['video_id'].drop_duplicates()\n",
        "us_videos_uni.shape"
      ],
      "execution_count": 90,
      "outputs": [
        {
          "output_type": "execute_result",
          "data": {
            "text/plain": [
              "(2364,)"
            ]
          },
          "metadata": {},
          "execution_count": 90
        }
      ]
    },
    {
      "cell_type": "code",
      "metadata": {
        "colab": {
          "base_uri": "https://localhost:8080/"
        },
        "id": "SeqavrLPm2CQ",
        "outputId": "0ee5724f-2192-49cd-8f0d-cf803aa6ef9a"
      },
      "source": [
        "us_videos['video_id'].shape"
      ],
      "execution_count": 91,
      "outputs": [
        {
          "output_type": "execute_result",
          "data": {
            "text/plain": [
              "(7992,)"
            ]
          },
          "metadata": {},
          "execution_count": 91
        }
      ]
    },
    {
      "cell_type": "markdown",
      "metadata": {
        "id": "LYyV448KNg0Z"
      },
      "source": [
        "Since, a video could be in trending for several days. There might be multiple rows of a particular video. In order to calculate the total Views, Comments, Likes, Dislikes of a video, we need to groupby with video_id. The below script will give you the total no. of views/comments/likes, and dislikes of a video.\n"
      ]
    },
    {
      "cell_type": "code",
      "metadata": {
        "colab": {
          "base_uri": "https://localhost:8080/"
        },
        "id": "51JrhsYkoLkT",
        "outputId": "acfef940-e4ac-491b-b287-d2a29dc7f37c"
      },
      "source": [
        "us_videos_uniq = us_videos.drop_duplicates()\n",
        "print(us_videos_uniq.shape)"
      ],
      "execution_count": 92,
      "outputs": [
        {
          "output_type": "stream",
          "name": "stdout",
          "text": [
            "(7992, 11)\n"
          ]
        }
      ]
    },
    {
      "cell_type": "code",
      "metadata": {
        "colab": {
          "base_uri": "https://localhost:8080/"
        },
        "id": "i_b4XcxjQUtC",
        "outputId": "238b0d50-0b83-4bb6-a592-c3de4d2a9c83"
      },
      "source": [
        "us_videos['video_id'].value_counts()"
      ],
      "execution_count": 93,
      "outputs": [
        {
          "output_type": "execute_result",
          "data": {
            "text/plain": [
              "LunHybOKIjU    8\n",
              "Oo0NJsr5m4I    8\n",
              "Hlt3rA-oDao    8\n",
              "OlI8r3nNUVw    7\n",
              "74zJ4scJzNs    7\n",
              "              ..\n",
              "pCSgWJzEvrM    1\n",
              "8ijNvyEbQ_g    1\n",
              "-3lMEZ6k5NA    1\n",
              "RRkdV_xmYOI    1\n",
              "IRGEpm1AXRM    1\n",
              "Name: video_id, Length: 2364, dtype: int64"
            ]
          },
          "metadata": {},
          "execution_count": 93
        }
      ]
    },
    {
      "cell_type": "code",
      "metadata": {
        "colab": {
          "base_uri": "https://localhost:8080/"
        },
        "id": "i-rk205OwvqT",
        "outputId": "7857494f-8cc2-4f57-a017-975b34177d0f"
      },
      "source": [
        "us_videos.info()"
      ],
      "execution_count": 101,
      "outputs": [
        {
          "output_type": "stream",
          "name": "stdout",
          "text": [
            "<class 'pandas.core.frame.DataFrame'>\n",
            "RangeIndex: 7992 entries, 0 to 7991\n",
            "Data columns (total 12 columns):\n",
            " #   Column          Non-Null Count  Dtype  \n",
            "---  ------          --------------  -----  \n",
            " 0   video_id        7992 non-null   object \n",
            " 1   title           7992 non-null   object \n",
            " 2   channel_title   7992 non-null   object \n",
            " 3   category_id     7992 non-null   int64  \n",
            " 4   tags            7992 non-null   object \n",
            " 5   views           7992 non-null   int64  \n",
            " 6   likes           7992 non-null   int64  \n",
            " 7   dislikes        7992 non-null   int64  \n",
            " 8   comment_total   7992 non-null   int64  \n",
            " 9   thumbnail_link  7992 non-null   object \n",
            " 10  date            7992 non-null   float64\n",
            " 11  category        0 non-null      object \n",
            "dtypes: float64(1), int64(5), object(6)\n",
            "memory usage: 749.4+ KB\n"
          ]
        }
      ]
    },
    {
      "cell_type": "code",
      "metadata": {
        "colab": {
          "base_uri": "https://localhost:8080/",
          "height": 300
        },
        "id": "in5pb4Lswy0_",
        "outputId": "86181190-0c9f-4a89-d11e-a24dd817db13"
      },
      "source": [
        "us_videos.describe()"
      ],
      "execution_count": 102,
      "outputs": [
        {
          "output_type": "execute_result",
          "data": {
            "text/html": [
              "<div>\n",
              "<style scoped>\n",
              "    .dataframe tbody tr th:only-of-type {\n",
              "        vertical-align: middle;\n",
              "    }\n",
              "\n",
              "    .dataframe tbody tr th {\n",
              "        vertical-align: top;\n",
              "    }\n",
              "\n",
              "    .dataframe thead th {\n",
              "        text-align: right;\n",
              "    }\n",
              "</style>\n",
              "<table border=\"1\" class=\"dataframe\">\n",
              "  <thead>\n",
              "    <tr style=\"text-align: right;\">\n",
              "      <th></th>\n",
              "      <th>category_id</th>\n",
              "      <th>views</th>\n",
              "      <th>likes</th>\n",
              "      <th>dislikes</th>\n",
              "      <th>comment_total</th>\n",
              "      <th>date</th>\n",
              "    </tr>\n",
              "  </thead>\n",
              "  <tbody>\n",
              "    <tr>\n",
              "      <th>count</th>\n",
              "      <td>7992.000000</td>\n",
              "      <td>7.992000e+03</td>\n",
              "      <td>7.992000e+03</td>\n",
              "      <td>7992.000000</td>\n",
              "      <td>7992.000000</td>\n",
              "      <td>7992.000000</td>\n",
              "    </tr>\n",
              "    <tr>\n",
              "      <th>mean</th>\n",
              "      <td>20.217718</td>\n",
              "      <td>9.390269e+05</td>\n",
              "      <td>3.449193e+04</td>\n",
              "      <td>1781.625000</td>\n",
              "      <td>4608.489740</td>\n",
              "      <td>16.094249</td>\n",
              "    </tr>\n",
              "    <tr>\n",
              "      <th>std</th>\n",
              "      <td>7.415525</td>\n",
              "      <td>2.148263e+06</td>\n",
              "      <td>9.136160e+04</td>\n",
              "      <td>10822.103125</td>\n",
              "      <td>20252.758016</td>\n",
              "      <td>7.677674</td>\n",
              "    </tr>\n",
              "    <tr>\n",
              "      <th>min</th>\n",
              "      <td>1.000000</td>\n",
              "      <td>0.000000e+00</td>\n",
              "      <td>0.000000e+00</td>\n",
              "      <td>0.000000</td>\n",
              "      <td>0.000000</td>\n",
              "      <td>1.100000</td>\n",
              "    </tr>\n",
              "    <tr>\n",
              "      <th>25%</th>\n",
              "      <td>17.000000</td>\n",
              "      <td>9.686375e+04</td>\n",
              "      <td>1.907500e+03</td>\n",
              "      <td>67.000000</td>\n",
              "      <td>286.000000</td>\n",
              "      <td>11.100000</td>\n",
              "    </tr>\n",
              "    <tr>\n",
              "      <th>50%</th>\n",
              "      <td>23.000000</td>\n",
              "      <td>3.086115e+05</td>\n",
              "      <td>8.652500e+03</td>\n",
              "      <td>272.500000</td>\n",
              "      <td>1085.500000</td>\n",
              "      <td>16.595000</td>\n",
              "    </tr>\n",
              "    <tr>\n",
              "      <th>75%</th>\n",
              "      <td>25.000000</td>\n",
              "      <td>9.588758e+05</td>\n",
              "      <td>3.021350e+04</td>\n",
              "      <td>1013.000000</td>\n",
              "      <td>3462.750000</td>\n",
              "      <td>21.100000</td>\n",
              "    </tr>\n",
              "    <tr>\n",
              "      <th>max</th>\n",
              "      <td>43.000000</td>\n",
              "      <td>4.150067e+07</td>\n",
              "      <td>2.010366e+06</td>\n",
              "      <td>318404.000000</td>\n",
              "      <td>736179.000000</td>\n",
              "      <td>30.090000</td>\n",
              "    </tr>\n",
              "  </tbody>\n",
              "</table>\n",
              "</div>"
            ],
            "text/plain": [
              "       category_id         views  ...  comment_total         date\n",
              "count  7992.000000  7.992000e+03  ...    7992.000000  7992.000000\n",
              "mean     20.217718  9.390269e+05  ...    4608.489740    16.094249\n",
              "std       7.415525  2.148263e+06  ...   20252.758016     7.677674\n",
              "min       1.000000  0.000000e+00  ...       0.000000     1.100000\n",
              "25%      17.000000  9.686375e+04  ...     286.000000    11.100000\n",
              "50%      23.000000  3.086115e+05  ...    1085.500000    16.595000\n",
              "75%      25.000000  9.588758e+05  ...    3462.750000    21.100000\n",
              "max      43.000000  4.150067e+07  ...  736179.000000    30.090000\n",
              "\n",
              "[8 rows x 6 columns]"
            ]
          },
          "metadata": {},
          "execution_count": 102
        }
      ]
    },
    {
      "cell_type": "code",
      "metadata": {
        "colab": {
          "base_uri": "https://localhost:8080/"
        },
        "id": "jXU9JfrJN2hM",
        "outputId": "ade396bc-41f8-4667-e952-d8ad2f94f7ff"
      },
      "source": [
        "temp_df = us_videos.loc[us_videos['video_id'] == 'Oo0NJsr5m4I']\n",
        "print(temp_df.head(3).to_string())"
      ],
      "execution_count": 94,
      "outputs": [
        {
          "output_type": "stream",
          "name": "stdout",
          "text": [
            "         video_id                                                            title channel_title  category_id                                                                                              tags    views  likes  dislikes  comment_total                                  thumbnail_link  date\n",
            "5594  Oo0NJsr5m4I  Tourist terrified by new glass walkway that cracks under weight          CGTN           25  CCTVNews|News|CGTN|Breaking|Politics|ChinaNews|WorldNews|CCTV|skywalk|China|society|glass bridge  1474740  16256      3416           3859  https://i.ytimg.com/vi/Oo0NJsr5m4I/default.jpg  11.1\n",
            "5794  Oo0NJsr5m4I  Tourist terrified by new glass walkway that cracks under weight          CGTN           25  CCTVNews|News|CGTN|Breaking|Politics|ChinaNews|WorldNews|CCTV|skywalk|China|society|glass bridge  3006284  29731      5727           6369  https://i.ytimg.com/vi/Oo0NJsr5m4I/default.jpg  12.1\n",
            "6015  Oo0NJsr5m4I  Tourist terrified by new glass walkway that cracks under weight          CGTN           25  CCTVNews|News|CGTN|Breaking|Politics|ChinaNews|WorldNews|CCTV|skywalk|China|society|glass bridge  3873250  34664      6624           7501  https://i.ytimg.com/vi/Oo0NJsr5m4I/default.jpg  13.1\n"
          ]
        }
      ]
    },
    {
      "cell_type": "markdown",
      "metadata": {
        "id": "JC_uHay0RmSa"
      },
      "source": [
        "Here, the same videos might be posted again on different dates or the videos might be a video series. However, it can create a defect model (biased model). As some videos (same id) are posted more number of times than others."
      ]
    },
    {
      "cell_type": "code",
      "metadata": {
        "colab": {
          "base_uri": "https://localhost:8080/"
        },
        "id": "G5VZSgVCwkQx",
        "outputId": "48bd2606-6901-496e-b696-94743aa4f1c3"
      },
      "source": [
        "print(us_videos.nunique())"
      ],
      "execution_count": 100,
      "outputs": [
        {
          "output_type": "stream",
          "name": "stdout",
          "text": [
            "video_id          2364\n",
            "title             2398\n",
            "channel_title     1230\n",
            "category_id         16\n",
            "tags              2204\n",
            "views             7939\n",
            "likes             6624\n",
            "dislikes          2531\n",
            "comment_total     4152\n",
            "thumbnail_link    2364\n",
            "date                40\n",
            "category             0\n",
            "dtype: int64\n"
          ]
        }
      ]
    },
    {
      "cell_type": "markdown",
      "metadata": {
        "id": "ZPFgsS1dyaMP"
      },
      "source": [
        "Let's create a new column 'likes_dislikes_ratio' and note that there can be vids with 0 dislikes and likes so we will have to handle that to avoid odd values."
      ]
    },
    {
      "cell_type": "code",
      "metadata": {
        "colab": {
          "base_uri": "https://localhost:8080/"
        },
        "id": "18N6eGgtvf4R",
        "outputId": "92f7e795-5489-4c95-e1b5-81218c094018"
      },
      "source": [
        "zero_dislikes = len(us_videos.dislikes)-us_videos.dislikes.astype(bool).sum(axis=0)\n",
        "zero_likes = len(us_videos.likes)-us_videos.likes.astype(bool).sum(axis=0)\n",
        "\n",
        "print(f\"There are {zero_likes} videos with 0 likes.\")\n",
        "print(f\"There are {zero_dislikes} videos with 0 dislikes.\")"
      ],
      "execution_count": 106,
      "outputs": [
        {
          "output_type": "stream",
          "name": "stdout",
          "text": [
            "There are 85 videos with 0 likes.\n",
            "There are 213 videos with 0 dislikes.\n"
          ]
        }
      ]
    },
    {
      "cell_type": "markdown",
      "metadata": {
        "id": "V7WjkoSiyXJo"
      },
      "source": [
        "So, if we have any zero in denominator(dislikes) then we will keep the its value same as number of likes and if we don't then we will calculate the ratio."
      ]
    },
    {
      "cell_type": "code",
      "metadata": {
        "id": "SA-wnEKivf8M"
      },
      "source": [
        "# this will hold all the ratios\n",
        "likes_dislikes = {}\n",
        "\n",
        "for i in range(len(us_videos['likes'])):\n",
        "    \n",
        "    # if the value of dislikes is not zero\n",
        "    if us_videos['dislikes'][i]!=0:\n",
        "        \n",
        "        # compute the ratio\n",
        "        likes_dislikes[i]=us_videos['likes'][i]/us_videos['dislikes'][i]\n",
        "        \n",
        "    else:\n",
        "        \n",
        "        # simply use the likes value\n",
        "        likes_dislikes[i]=us_videos['likes'][i]\n",
        "        \n",
        "us_videos['likes_dislikes_ratio'] = likes_dislikes.values()"
      ],
      "execution_count": 107,
      "outputs": []
    },
    {
      "cell_type": "code",
      "metadata": {
        "colab": {
          "base_uri": "https://localhost:8080/",
          "height": 469
        },
        "id": "hRN7Xmukvf_u",
        "outputId": "3c32ab34-8784-4d45-eae4-66d15c1448aa"
      },
      "source": [
        "us_videos.head()"
      ],
      "execution_count": 108,
      "outputs": [
        {
          "output_type": "execute_result",
          "data": {
            "text/html": [
              "<div>\n",
              "<style scoped>\n",
              "    .dataframe tbody tr th:only-of-type {\n",
              "        vertical-align: middle;\n",
              "    }\n",
              "\n",
              "    .dataframe tbody tr th {\n",
              "        vertical-align: top;\n",
              "    }\n",
              "\n",
              "    .dataframe thead th {\n",
              "        text-align: right;\n",
              "    }\n",
              "</style>\n",
              "<table border=\"1\" class=\"dataframe\">\n",
              "  <thead>\n",
              "    <tr style=\"text-align: right;\">\n",
              "      <th></th>\n",
              "      <th>video_id</th>\n",
              "      <th>title</th>\n",
              "      <th>channel_title</th>\n",
              "      <th>category_id</th>\n",
              "      <th>tags</th>\n",
              "      <th>views</th>\n",
              "      <th>likes</th>\n",
              "      <th>dislikes</th>\n",
              "      <th>comment_total</th>\n",
              "      <th>thumbnail_link</th>\n",
              "      <th>date</th>\n",
              "      <th>category</th>\n",
              "      <th>likes_dislikes_ratio</th>\n",
              "    </tr>\n",
              "  </thead>\n",
              "  <tbody>\n",
              "    <tr>\n",
              "      <th>0</th>\n",
              "      <td>XpVt6Z1Gjjo</td>\n",
              "      <td>1 YEAR OF VLOGGING -- HOW LOGAN PAUL CHANGED Y...</td>\n",
              "      <td>Logan Paul Vlogs</td>\n",
              "      <td>24</td>\n",
              "      <td>logan paul vlog|logan paul|logan|paul|olympics...</td>\n",
              "      <td>4394029</td>\n",
              "      <td>320053</td>\n",
              "      <td>5931</td>\n",
              "      <td>46245</td>\n",
              "      <td>https://i.ytimg.com/vi/XpVt6Z1Gjjo/default.jpg</td>\n",
              "      <td>13.09</td>\n",
              "      <td>NaN</td>\n",
              "      <td>53.962738</td>\n",
              "    </tr>\n",
              "    <tr>\n",
              "      <th>1</th>\n",
              "      <td>K4wEI5zhHB0</td>\n",
              "      <td>iPhone X — Introducing iPhone X — Apple</td>\n",
              "      <td>Apple</td>\n",
              "      <td>28</td>\n",
              "      <td>Apple|iPhone 10|iPhone Ten|iPhone|Portrait Lig...</td>\n",
              "      <td>7860119</td>\n",
              "      <td>185853</td>\n",
              "      <td>26679</td>\n",
              "      <td>0</td>\n",
              "      <td>https://i.ytimg.com/vi/K4wEI5zhHB0/default.jpg</td>\n",
              "      <td>13.09</td>\n",
              "      <td>NaN</td>\n",
              "      <td>6.966266</td>\n",
              "    </tr>\n",
              "    <tr>\n",
              "      <th>2</th>\n",
              "      <td>cLdxuaxaQwc</td>\n",
              "      <td>My Response</td>\n",
              "      <td>PewDiePie</td>\n",
              "      <td>22</td>\n",
              "      <td>[none]</td>\n",
              "      <td>5845909</td>\n",
              "      <td>576597</td>\n",
              "      <td>39774</td>\n",
              "      <td>170708</td>\n",
              "      <td>https://i.ytimg.com/vi/cLdxuaxaQwc/default.jpg</td>\n",
              "      <td>13.09</td>\n",
              "      <td>NaN</td>\n",
              "      <td>14.496832</td>\n",
              "    </tr>\n",
              "    <tr>\n",
              "      <th>3</th>\n",
              "      <td>WYYvHb03Eog</td>\n",
              "      <td>Apple iPhone X first look</td>\n",
              "      <td>The Verge</td>\n",
              "      <td>28</td>\n",
              "      <td>apple iphone x hands on|Apple iPhone X|iPhone ...</td>\n",
              "      <td>2642103</td>\n",
              "      <td>24975</td>\n",
              "      <td>4542</td>\n",
              "      <td>12829</td>\n",
              "      <td>https://i.ytimg.com/vi/WYYvHb03Eog/default.jpg</td>\n",
              "      <td>13.09</td>\n",
              "      <td>NaN</td>\n",
              "      <td>5.498679</td>\n",
              "    </tr>\n",
              "    <tr>\n",
              "      <th>4</th>\n",
              "      <td>sjlHnJvXdQs</td>\n",
              "      <td>iPhone X (parody)</td>\n",
              "      <td>jacksfilms</td>\n",
              "      <td>23</td>\n",
              "      <td>jacksfilms|parody|parodies|iphone|iphone x|iph...</td>\n",
              "      <td>1168130</td>\n",
              "      <td>96666</td>\n",
              "      <td>568</td>\n",
              "      <td>6666</td>\n",
              "      <td>https://i.ytimg.com/vi/sjlHnJvXdQs/default.jpg</td>\n",
              "      <td>13.09</td>\n",
              "      <td>NaN</td>\n",
              "      <td>170.186620</td>\n",
              "    </tr>\n",
              "  </tbody>\n",
              "</table>\n",
              "</div>"
            ],
            "text/plain": [
              "      video_id  ... likes_dislikes_ratio\n",
              "0  XpVt6Z1Gjjo  ...            53.962738\n",
              "1  K4wEI5zhHB0  ...             6.966266\n",
              "2  cLdxuaxaQwc  ...            14.496832\n",
              "3  WYYvHb03Eog  ...             5.498679\n",
              "4  sjlHnJvXdQs  ...           170.186620\n",
              "\n",
              "[5 rows x 13 columns]"
            ]
          },
          "metadata": {},
          "execution_count": 108
        }
      ]
    },
    {
      "cell_type": "code",
      "metadata": {
        "colab": {
          "base_uri": "https://localhost:8080/"
        },
        "id": "kUHv0UNuvgD3",
        "outputId": "490d1db4-d435-4764-a7c7-b445a9eed775"
      },
      "source": [
        "print(f\"Does the data contain duplicate video_ids? - {us_videos.video_id.duplicated().any()}\")\n"
      ],
      "execution_count": 110,
      "outputs": [
        {
          "output_type": "stream",
          "name": "stdout",
          "text": [
            "Does the data contain duplicate video_ids? - True\n"
          ]
        }
      ]
    },
    {
      "cell_type": "code",
      "metadata": {
        "colab": {
          "base_uri": "https://localhost:8080/"
        },
        "id": "B7uw-kE_y5FJ",
        "outputId": "95e72045-9357-47c5-fb45-168d632a503c"
      },
      "source": [
        "print(f\"Before Deduplication : {us_videos.shape}\")\n",
        "us_videos = us_videos[~us_videos.video_id.duplicated(keep='last')]\n",
        "print(f\"After Deduplication : {us_videos.shape}\")\n",
        "\n",
        "print(f\"Does the data contain duplicate video_ids now? - {us_videos.video_id.duplicated().any()}\")"
      ],
      "execution_count": 111,
      "outputs": [
        {
          "output_type": "stream",
          "name": "stdout",
          "text": [
            "Before Deduplication : (7992, 13)\n",
            "After Deduplication : (2364, 13)\n",
            "Does the data contain duplicate video_ids now? - False\n"
          ]
        }
      ]
    },
    {
      "cell_type": "markdown",
      "metadata": {
        "id": "b-Iy3cQkU3vj"
      },
      "source": [
        "# **Data Cleaning**"
      ]
    },
    {
      "cell_type": "markdown",
      "metadata": {
        "id": "cpiveebktUX5"
      },
      "source": [
        "Removing stopwords, punctuation marks, emojis, converting to lowercase, contracting strings, whitespace, etc."
      ]
    },
    {
      "cell_type": "code",
      "metadata": {
        "id": "jV8ULD0ZWfwK"
      },
      "source": [
        "us_videos['title'] = us_videos['title'].str.replace('The','')\n",
        "#us_videos['title'] = us_videos['title'].str.replace(' ','')\n",
        "us_videos['title'] = us_videos['title'].str.replace('&','_')\n",
        "us_videos['title'] = us_videos['title'].str.replace(',','_')\n",
        "us_videos['title'] = us_videos['title'].str.replace('|',' ')\n",
        "us_videos['title'] = us_videos['title'].str.lower()"
      ],
      "execution_count": 31,
      "outputs": []
    },
    {
      "cell_type": "code",
      "metadata": {
        "id": "2jnKpHCRXyOG"
      },
      "source": [
        "us_videos['channel_title'] = us_videos['channel_title'].str.replace('The','')\n",
        "#us_videos['channel_title'] = us_videos['channel_title'].str.replace(' ','')\n",
        "us_videos['channel_title'] = us_videos['channel_title'].str.replace('&','_')\n",
        "us_videos['channel_title'] = us_videos['channel_title'].str.replace(',','_')\n",
        "us_videos['channel_title'] = us_videos['channel_title'].str.replace('|',' ')\n",
        "us_videos['channel_title'] = us_videos['channel_title'].str.lower()"
      ],
      "execution_count": 32,
      "outputs": []
    },
    {
      "cell_type": "code",
      "metadata": {
        "id": "JAbfVXFOYA4h"
      },
      "source": [
        "us_videos['tags'] = us_videos['tags'].str.replace('The','')\n",
        "#us_videos['tags'] = us_videos['tags'].str.replace(' ',' ')\n",
        "us_videos['tags'] = us_videos['tags'].str.replace('&','_')\n",
        "us_videos['tags'] = us_videos['tags'].str.replace(',','_')\n",
        "us_videos['tags'] = us_videos['tags'].str.replace('|',' ')\n",
        "us_videos['tags'] = us_videos['tags'].str.lower()"
      ],
      "execution_count": 33,
      "outputs": []
    },
    {
      "cell_type": "code",
      "metadata": {
        "id": "kz3mlGwhfB2r"
      },
      "source": [
        "import emoji\n",
        "\n",
        "def remove_emojis(s):\n",
        "  return (''.join(c for c in s if c not in emoji.UNICODE_EMOJI))"
      ],
      "execution_count": 34,
      "outputs": []
    },
    {
      "cell_type": "code",
      "metadata": {
        "id": "mtN7Ph9iYjLC"
      },
      "source": [
        "# https://stackoverflow.com/a/47091490/4084039\n",
        "import re\n",
        "\n",
        "def decontracted(phrase):\n",
        "    # specific\n",
        "    phrase = re.sub(r\"won't\", \"will not\", phrase)\n",
        "    phrase = re.sub(r\"can\\'t\", \"can not\", phrase)\n",
        "\n",
        "    # general\n",
        "    phrase = re.sub(r\"n\\'t\", \" not\", phrase)\n",
        "    phrase = re.sub(r\"\\'re\", \" are\", phrase)\n",
        "    phrase = re.sub(r\"\\'s\", \" is\", phrase)\n",
        "    phrase = re.sub(r\"\\'d\", \" would\", phrase)\n",
        "    phrase = re.sub(r\"\\'ll\", \" will\", phrase)\n",
        "    phrase = re.sub(r\"\\'t\", \" not\", phrase)\n",
        "    phrase = re.sub(r\"\\'ve\", \" have\", phrase)\n",
        "    phrase = re.sub(r\"\\'m\", \" am\", phrase)\n",
        "    return phrase"
      ],
      "execution_count": 35,
      "outputs": []
    },
    {
      "cell_type": "code",
      "metadata": {
        "id": "i-eBfQ2bd4oy"
      },
      "source": [
        "#removing stopwords\n",
        "\n",
        "# https://gist.github.com/sebleier/554280\n",
        "# 'no', 'nor', 'not' are excluded\n",
        "stopwords= ['i', 'me', 'my', 'myself', 'we', 'our', 'ours', 'ourselves', 'you', \"you're\", \"you've\",\\\n",
        "            \"you'll\", \"you'd\", 'your', 'yours', 'yourself', 'yourselves', 'he', 'him', 'his', 'himself', \\\n",
        "            'she', \"she's\", 'her', 'hers', 'herself', 'it', \"it's\", 'its', 'itself', 'they', 'them', 'their',\\\n",
        "            'theirs', 'themselves', 'what', 'which', 'who', 'whom', 'this', 'that', \"that'll\", 'these', 'those', \\\n",
        "            'am', 'is', 'are', 'was', 'were', 'be', 'been', 'being', 'have', 'has', 'had', 'having', 'do', 'does', \\\n",
        "            'did', 'doing', 'a', 'an', 'the', 'and', 'but', 'if', 'or', 'because', 'as', 'until', 'while', 'of', \\\n",
        "            'at', 'by', 'for', 'with', 'about', 'against', 'between', 'into', 'through', 'during', 'before', 'after',\\\n",
        "            'above', 'below', 'to', 'from', 'up', 'down', 'in', 'out', 'on', 'off', 'over', 'under', 'again', 'further',\\\n",
        "            'then', 'once', 'here', 'there', 'when', 'where', 'why', 'how', 'all', 'any', 'both', 'each', 'few', 'more',\\\n",
        "            'most', 'other', 'some', 'such', 'only', 'own', 'same', 'so', 'than', 'too', 'very', \\\n",
        "            's', 't', 'can', 'will', 'just', 'don', \"don't\", 'should', \"should've\", 'now', 'd', 'll', 'm', 'o', 're', \\\n",
        "            've', 'y', 'ain', 'aren', \"aren't\", 'couldn', \"couldn't\", 'didn', \"didn't\", 'doesn', \"doesn't\", 'hadn',\\\n",
        "            \"hadn't\", 'hasn', \"hasn't\", 'haven', \"haven't\", 'isn', \"isn't\", 'ma', 'mightn', \"mightn't\", 'mustn',\\\n",
        "            \"mustn't\", 'needn', \"needn't\", 'shan', \"shan't\", 'shouldn', \"shouldn't\", 'wasn', \"wasn't\", 'weren', \"weren't\", \\\n",
        "            'won', \"won't\", 'wouldn', \"wouldn't\"]"
      ],
      "execution_count": 36,
      "outputs": []
    },
    {
      "cell_type": "code",
      "metadata": {
        "id": "A8PXbMUZiYhY"
      },
      "source": [
        "punc = '''!()-[]{};:'\"\\,<>./?@#$%^&*_~'''\n",
        "\n",
        "def remove_punc(s):\n",
        "\n",
        "  for ele in s:\n",
        "    if ele in punc:\n",
        "        s = s.replace(ele, \" \")\n",
        "  return s"
      ],
      "execution_count": 37,
      "outputs": []
    },
    {
      "cell_type": "code",
      "metadata": {
        "id": "JmEuY8HQeGIO"
      },
      "source": [
        "from tqdm import tqdm\n",
        "def preprocess_text(text_data):\n",
        "    preprocessed_text = []\n",
        "    # tqdm is for printing the status bar\n",
        "    for sentence in tqdm(text_data):\n",
        "        sentence = str(sentence)\n",
        "        sent = remove_punc(sentence)\n",
        "\n",
        "\n",
        "        sent = remove_emojis(sentence)\n",
        "        sent = decontracted(sentence)\n",
        "        sent = sent.replace('\\\\r', ' ')\n",
        "        sent = sent.replace('\\\\n', ' ')\n",
        "        sent = sent.replace('\\\\\"', ' ')\n",
        "        sent = re.sub('[^A-Za-z0-9]+', ' ', sent)\n",
        "        # https://gist.github.com/sebleier/554280\n",
        "        sent = ' '.join(e for e in sent.split() if e.lower() not in stopwords)\n",
        "        preprocessed_text.append(sent.lower().strip())\n",
        "    return preprocessed_text"
      ],
      "execution_count": 38,
      "outputs": []
    },
    {
      "cell_type": "code",
      "metadata": {
        "id": "S0eEHzQHeiiI",
        "colab": {
          "base_uri": "https://localhost:8080/"
        },
        "outputId": "ece84a71-96f4-4216-d918-80187cb70e4c"
      },
      "source": [
        "us_videos['title'] = preprocess_text(us_videos['title'].values)"
      ],
      "execution_count": 39,
      "outputs": [
        {
          "output_type": "stream",
          "name": "stderr",
          "text": [
            "100%|██████████| 7992/7992 [00:00<00:00, 18513.30it/s]\n"
          ]
        }
      ]
    },
    {
      "cell_type": "code",
      "metadata": {
        "id": "4jzcjQNHewJh",
        "colab": {
          "base_uri": "https://localhost:8080/"
        },
        "outputId": "581b4f30-228b-403c-d691-6f2da8a260bf"
      },
      "source": [
        "us_videos['channel_title'] = preprocess_text(us_videos['channel_title'].values)"
      ],
      "execution_count": 40,
      "outputs": [
        {
          "output_type": "stream",
          "name": "stderr",
          "text": [
            "100%|██████████| 7992/7992 [00:00<00:00, 34490.79it/s]\n"
          ]
        }
      ]
    },
    {
      "cell_type": "code",
      "metadata": {
        "id": "_mHr6Tqje3Gm",
        "colab": {
          "base_uri": "https://localhost:8080/"
        },
        "outputId": "d0d444e3-9a20-4215-9a39-90c5320ec797"
      },
      "source": [
        "us_videos['tags'] = preprocess_text(us_videos['tags'].values)"
      ],
      "execution_count": 41,
      "outputs": [
        {
          "output_type": "stream",
          "name": "stderr",
          "text": [
            "100%|██████████| 7992/7992 [00:01<00:00, 4520.13it/s]\n"
          ]
        }
      ]
    },
    {
      "cell_type": "code",
      "metadata": {
        "id": "vryK735ae6xK",
        "colab": {
          "base_uri": "https://localhost:8080/"
        },
        "outputId": "c3f8ae21-99f9-487b-bcf5-fa92dd724bb9"
      },
      "source": [
        "us_comments['comment_text'] = preprocess_text(us_comments['comment_text'].values)"
      ],
      "execution_count": 42,
      "outputs": [
        {
          "output_type": "stream",
          "name": "stderr",
          "text": [
            "100%|██████████| 691400/691400 [00:58<00:00, 11799.25it/s]\n"
          ]
        }
      ]
    },
    {
      "cell_type": "code",
      "metadata": {
        "id": "oB3WIlBLhTBA",
        "colab": {
          "base_uri": "https://localhost:8080/",
          "height": 590
        },
        "outputId": "81153f09-d926-4fa5-c75d-e66e25b0c4e3"
      },
      "source": [
        "us_videos.head(5)"
      ],
      "execution_count": 43,
      "outputs": [
        {
          "output_type": "execute_result",
          "data": {
            "text/html": [
              "<div>\n",
              "<style scoped>\n",
              "    .dataframe tbody tr th:only-of-type {\n",
              "        vertical-align: middle;\n",
              "    }\n",
              "\n",
              "    .dataframe tbody tr th {\n",
              "        vertical-align: top;\n",
              "    }\n",
              "\n",
              "    .dataframe thead th {\n",
              "        text-align: right;\n",
              "    }\n",
              "</style>\n",
              "<table border=\"1\" class=\"dataframe\">\n",
              "  <thead>\n",
              "    <tr style=\"text-align: right;\">\n",
              "      <th></th>\n",
              "      <th>video_id</th>\n",
              "      <th>title</th>\n",
              "      <th>channel_title</th>\n",
              "      <th>category_id</th>\n",
              "      <th>tags</th>\n",
              "      <th>views</th>\n",
              "      <th>likes</th>\n",
              "      <th>dislikes</th>\n",
              "      <th>comment_total</th>\n",
              "      <th>thumbnail_link</th>\n",
              "      <th>date</th>\n",
              "    </tr>\n",
              "  </thead>\n",
              "  <tbody>\n",
              "    <tr>\n",
              "      <th>0</th>\n",
              "      <td>XpVt6Z1Gjjo</td>\n",
              "      <td>1 year vlogging logan paul changed youtube for...</td>\n",
              "      <td>logan paul vlogs</td>\n",
              "      <td>24</td>\n",
              "      <td>logan paul vlog logan paul logan paul olympics...</td>\n",
              "      <td>4394029</td>\n",
              "      <td>320053</td>\n",
              "      <td>5931</td>\n",
              "      <td>46245</td>\n",
              "      <td>https://i.ytimg.com/vi/XpVt6Z1Gjjo/default.jpg</td>\n",
              "      <td>13.09</td>\n",
              "    </tr>\n",
              "    <tr>\n",
              "      <th>1</th>\n",
              "      <td>K4wEI5zhHB0</td>\n",
              "      <td>iphone x introducing iphone x apple</td>\n",
              "      <td>apple</td>\n",
              "      <td>28</td>\n",
              "      <td>apple iphone 10 iphone ten iphone portrait lig...</td>\n",
              "      <td>7860119</td>\n",
              "      <td>185853</td>\n",
              "      <td>26679</td>\n",
              "      <td>0</td>\n",
              "      <td>https://i.ytimg.com/vi/K4wEI5zhHB0/default.jpg</td>\n",
              "      <td>13.09</td>\n",
              "    </tr>\n",
              "    <tr>\n",
              "      <th>2</th>\n",
              "      <td>cLdxuaxaQwc</td>\n",
              "      <td>response</td>\n",
              "      <td>pewdiepie</td>\n",
              "      <td>22</td>\n",
              "      <td>none</td>\n",
              "      <td>5845909</td>\n",
              "      <td>576597</td>\n",
              "      <td>39774</td>\n",
              "      <td>170708</td>\n",
              "      <td>https://i.ytimg.com/vi/cLdxuaxaQwc/default.jpg</td>\n",
              "      <td>13.09</td>\n",
              "    </tr>\n",
              "    <tr>\n",
              "      <th>3</th>\n",
              "      <td>WYYvHb03Eog</td>\n",
              "      <td>apple iphone x first look</td>\n",
              "      <td>verge</td>\n",
              "      <td>28</td>\n",
              "      <td>apple iphone x hands apple iphone x iphone x a...</td>\n",
              "      <td>2642103</td>\n",
              "      <td>24975</td>\n",
              "      <td>4542</td>\n",
              "      <td>12829</td>\n",
              "      <td>https://i.ytimg.com/vi/WYYvHb03Eog/default.jpg</td>\n",
              "      <td>13.09</td>\n",
              "    </tr>\n",
              "    <tr>\n",
              "      <th>4</th>\n",
              "      <td>sjlHnJvXdQs</td>\n",
              "      <td>iphone x parody</td>\n",
              "      <td>jacksfilms</td>\n",
              "      <td>23</td>\n",
              "      <td>jacksfilms parody parodies iphone iphone x iph...</td>\n",
              "      <td>1168130</td>\n",
              "      <td>96666</td>\n",
              "      <td>568</td>\n",
              "      <td>6666</td>\n",
              "      <td>https://i.ytimg.com/vi/sjlHnJvXdQs/default.jpg</td>\n",
              "      <td>13.09</td>\n",
              "    </tr>\n",
              "  </tbody>\n",
              "</table>\n",
              "</div>"
            ],
            "text/plain": [
              "      video_id  ...   date\n",
              "0  XpVt6Z1Gjjo  ...  13.09\n",
              "1  K4wEI5zhHB0  ...  13.09\n",
              "2  cLdxuaxaQwc  ...  13.09\n",
              "3  WYYvHb03Eog  ...  13.09\n",
              "4  sjlHnJvXdQs  ...  13.09\n",
              "\n",
              "[5 rows x 11 columns]"
            ]
          },
          "metadata": {},
          "execution_count": 43
        }
      ]
    },
    {
      "cell_type": "code",
      "metadata": {
        "id": "lhYrBZn3ov4H",
        "colab": {
          "base_uri": "https://localhost:8080/",
          "height": 206
        },
        "outputId": "bca51705-6808-4489-f880-47b53a32ba85"
      },
      "source": [
        "us_comments.head(5)"
      ],
      "execution_count": 44,
      "outputs": [
        {
          "output_type": "execute_result",
          "data": {
            "text/html": [
              "<div>\n",
              "<style scoped>\n",
              "    .dataframe tbody tr th:only-of-type {\n",
              "        vertical-align: middle;\n",
              "    }\n",
              "\n",
              "    .dataframe tbody tr th {\n",
              "        vertical-align: top;\n",
              "    }\n",
              "\n",
              "    .dataframe thead th {\n",
              "        text-align: right;\n",
              "    }\n",
              "</style>\n",
              "<table border=\"1\" class=\"dataframe\">\n",
              "  <thead>\n",
              "    <tr style=\"text-align: right;\">\n",
              "      <th></th>\n",
              "      <th>video_id</th>\n",
              "      <th>comment_text</th>\n",
              "      <th>likes</th>\n",
              "      <th>replies</th>\n",
              "    </tr>\n",
              "  </thead>\n",
              "  <tbody>\n",
              "    <tr>\n",
              "      <th>0</th>\n",
              "      <td>XpVt6Z1Gjjo</td>\n",
              "      <td>logan paul yo big day</td>\n",
              "      <td>4</td>\n",
              "      <td>0</td>\n",
              "    </tr>\n",
              "    <tr>\n",
              "      <th>1</th>\n",
              "      <td>XpVt6Z1Gjjo</td>\n",
              "      <td>following start vine channel seen 365 vlogs</td>\n",
              "      <td>3</td>\n",
              "      <td>0</td>\n",
              "    </tr>\n",
              "    <tr>\n",
              "      <th>2</th>\n",
              "      <td>XpVt6Z1Gjjo</td>\n",
              "      <td>say hi kong maverick</td>\n",
              "      <td>3</td>\n",
              "      <td>0</td>\n",
              "    </tr>\n",
              "    <tr>\n",
              "      <th>3</th>\n",
              "      <td>XpVt6Z1Gjjo</td>\n",
              "      <td>fan attendance</td>\n",
              "      <td>3</td>\n",
              "      <td>0</td>\n",
              "    </tr>\n",
              "    <tr>\n",
              "      <th>4</th>\n",
              "      <td>XpVt6Z1Gjjo</td>\n",
              "      <td>trending</td>\n",
              "      <td>3</td>\n",
              "      <td>0</td>\n",
              "    </tr>\n",
              "  </tbody>\n",
              "</table>\n",
              "</div>"
            ],
            "text/plain": [
              "      video_id                                 comment_text likes replies\n",
              "0  XpVt6Z1Gjjo                        logan paul yo big day     4       0\n",
              "1  XpVt6Z1Gjjo  following start vine channel seen 365 vlogs     3       0\n",
              "2  XpVt6Z1Gjjo                         say hi kong maverick     3       0\n",
              "3  XpVt6Z1Gjjo                               fan attendance     3       0\n",
              "4  XpVt6Z1Gjjo                                     trending     3       0"
            ]
          },
          "metadata": {},
          "execution_count": 44
        }
      ]
    },
    {
      "cell_type": "code",
      "metadata": {
        "id": "HNN9mqaIqste",
        "colab": {
          "base_uri": "https://localhost:8080/",
          "height": 300
        },
        "outputId": "c2332144-7f6a-4877-f889-995007ef4103"
      },
      "source": [
        "#How to calculate number of words in a string in DataFrame: https://stackoverflow.com/a/37483537/4084039\n",
        "word_count = us_videos['title'].str.split().apply(len).value_counts()\n",
        "word_dict = dict(word_count)\n",
        "word_dict = dict(sorted(word_dict.items(), key = lambda kv: kv[1]))\n",
        "\n",
        "\n",
        "ind = np.arange(len(word_dict))\n",
        "plt.figure(figsize = (20,5))\n",
        "p1 = plt.bar(ind, list(word_dict.values()))\n",
        "\n",
        "plt.ylabel('Number of videos')\n",
        "plt.title('Words for each title of the videos')\n",
        "plt.xticks(ind, list(word_dict.keys()))\n",
        "plt.show()"
      ],
      "execution_count": 45,
      "outputs": [
        {
          "output_type": "display_data",
          "data": {
            "image/png": "[encoded data removed]",
            "text/plain": [
              "<Figure size 1440x360 with 1 Axes>"
            ]
          },
          "metadata": {
            "needs_background": "light"
          }
        }
      ]
    },
    {
      "cell_type": "markdown",
      "metadata": {
        "id": "qHTRFgp5GL4z"
      },
      "source": [
        "Most of the videos has 5, 6, 7 title word count."
      ]
    },
    {
      "cell_type": "code",
      "metadata": {
        "id": "BHBpuIUyE-zU",
        "colab": {
          "base_uri": "https://localhost:8080/",
          "height": 300
        },
        "outputId": "49bd2454-ed23-479a-a2c4-6528c966b29f"
      },
      "source": [
        "word_count = us_videos['channel_title'].str.split().apply(len).value_counts()\n",
        "word_dict = dict(word_count)\n",
        "word_dict = dict(sorted(word_dict.items(), key = lambda kv: kv[1]))\n",
        "\n",
        "\n",
        "ind = np.arange(len(word_dict))\n",
        "plt.figure(figsize = (20,5))\n",
        "p1 = plt.bar(ind, list(word_dict.values()))\n",
        "\n",
        "plt.ylabel('Number of videos')\n",
        "plt.title('Words for each channel title of the videos')\n",
        "plt.xticks(ind, list(word_dict.keys()))\n",
        "plt.show()"
      ],
      "execution_count": 46,
      "outputs": [
        {
          "output_type": "display_data",
          "data": {
            "image/png": "[encoded data removed]",
            "text/plain": [
              "<Figure size 1440x360 with 1 Axes>"
            ]
          },
          "metadata": {
            "needs_background": "light"
          }
        }
      ]
    },
    {
      "cell_type": "code",
      "metadata": {
        "id": "uZbW7bIZGey8",
        "colab": {
          "base_uri": "https://localhost:8080/",
          "height": 301
        },
        "outputId": "b066039b-d1d0-4cbd-f67b-16e2471551a9"
      },
      "source": [
        "word_count = us_videos['tags'].str.split().apply(len).value_counts()\n",
        "word_dict = dict(word_count)\n",
        "word_dict = dict(sorted(word_dict.items(), key = lambda kv: kv[1]))\n",
        "\n",
        "\n",
        "ind = np.arange(len(word_dict))\n",
        "plt.figure(figsize = (20,5))\n",
        "p1 = plt.bar(ind, list(word_dict.values()))\n",
        "\n",
        "plt.ylabel('Number of videos')\n",
        "plt.title('Words for each tags of the videos')\n",
        "plt.xticks(ind, list(word_dict.keys()))\n",
        "plt.show()"
      ],
      "execution_count": 47,
      "outputs": [
        {
          "output_type": "display_data",
          "data": {
            "image/png": "[encoded data removed]",
            "text/plain": [
              "<Figure size 1440x360 with 1 Axes>"
            ]
          },
          "metadata": {
            "needs_background": "light"
          }
        }
      ]
    },
    {
      "cell_type": "markdown",
      "metadata": {
        "id": "_EevWB_Ut2EZ"
      },
      "source": [
        "Correlation between all features."
      ]
    },
    {
      "cell_type": "code",
      "metadata": {
        "id": "w15EoFUxHf6l",
        "colab": {
          "base_uri": "https://localhost:8080/",
          "height": 237
        },
        "outputId": "a3100ff4-01a5-4477-c381-f755134bc95d"
      },
      "source": [
        "us_videos.corr()"
      ],
      "execution_count": 48,
      "outputs": [
        {
          "output_type": "execute_result",
          "data": {
            "text/html": [
              "<div>\n",
              "<style scoped>\n",
              "    .dataframe tbody tr th:only-of-type {\n",
              "        vertical-align: middle;\n",
              "    }\n",
              "\n",
              "    .dataframe tbody tr th {\n",
              "        vertical-align: top;\n",
              "    }\n",
              "\n",
              "    .dataframe thead th {\n",
              "        text-align: right;\n",
              "    }\n",
              "</style>\n",
              "<table border=\"1\" class=\"dataframe\">\n",
              "  <thead>\n",
              "    <tr style=\"text-align: right;\">\n",
              "      <th></th>\n",
              "      <th>category_id</th>\n",
              "      <th>views</th>\n",
              "      <th>likes</th>\n",
              "      <th>dislikes</th>\n",
              "      <th>comment_total</th>\n",
              "      <th>date</th>\n",
              "    </tr>\n",
              "  </thead>\n",
              "  <tbody>\n",
              "    <tr>\n",
              "      <th>category_id</th>\n",
              "      <td>1.000000</td>\n",
              "      <td>-0.037362</td>\n",
              "      <td>-0.059132</td>\n",
              "      <td>0.001107</td>\n",
              "      <td>-0.020860</td>\n",
              "      <td>0.008000</td>\n",
              "    </tr>\n",
              "    <tr>\n",
              "      <th>views</th>\n",
              "      <td>-0.037362</td>\n",
              "      <td>1.000000</td>\n",
              "      <td>0.832844</td>\n",
              "      <td>0.541955</td>\n",
              "      <td>0.715557</td>\n",
              "      <td>0.031203</td>\n",
              "    </tr>\n",
              "    <tr>\n",
              "      <th>likes</th>\n",
              "      <td>-0.059132</td>\n",
              "      <td>0.832844</td>\n",
              "      <td>1.000000</td>\n",
              "      <td>0.497439</td>\n",
              "      <td>0.836477</td>\n",
              "      <td>0.039599</td>\n",
              "    </tr>\n",
              "    <tr>\n",
              "      <th>dislikes</th>\n",
              "      <td>0.001107</td>\n",
              "      <td>0.541955</td>\n",
              "      <td>0.497439</td>\n",
              "      <td>1.000000</td>\n",
              "      <td>0.543983</td>\n",
              "      <td>0.026447</td>\n",
              "    </tr>\n",
              "    <tr>\n",
              "      <th>comment_total</th>\n",
              "      <td>-0.020860</td>\n",
              "      <td>0.715557</td>\n",
              "      <td>0.836477</td>\n",
              "      <td>0.543983</td>\n",
              "      <td>1.000000</td>\n",
              "      <td>0.025100</td>\n",
              "    </tr>\n",
              "    <tr>\n",
              "      <th>date</th>\n",
              "      <td>0.008000</td>\n",
              "      <td>0.031203</td>\n",
              "      <td>0.039599</td>\n",
              "      <td>0.026447</td>\n",
              "      <td>0.025100</td>\n",
              "      <td>1.000000</td>\n",
              "    </tr>\n",
              "  </tbody>\n",
              "</table>\n",
              "</div>"
            ],
            "text/plain": [
              "               category_id     views  ...  comment_total      date\n",
              "category_id       1.000000 -0.037362  ...      -0.020860  0.008000\n",
              "views            -0.037362  1.000000  ...       0.715557  0.031203\n",
              "likes            -0.059132  0.832844  ...       0.836477  0.039599\n",
              "dislikes          0.001107  0.541955  ...       0.543983  0.026447\n",
              "comment_total    -0.020860  0.715557  ...       1.000000  0.025100\n",
              "date              0.008000  0.031203  ...       0.025100  1.000000\n",
              "\n",
              "[6 rows x 6 columns]"
            ]
          },
          "metadata": {},
          "execution_count": 48
        }
      ]
    },
    {
      "cell_type": "code",
      "metadata": {
        "id": "-VmQu6b-IIc-",
        "colab": {
          "base_uri": "https://localhost:8080/",
          "height": 352
        },
        "outputId": "64619fd9-a8e5-4dfd-866d-f327f7b2f498"
      },
      "source": [
        "sns.heatmap(us_videos.corr())"
      ],
      "execution_count": 49,
      "outputs": [
        {
          "output_type": "execute_result",
          "data": {
            "text/plain": [
              "<matplotlib.axes._subplots.AxesSubplot at 0x7f055588ea90>"
            ]
          },
          "metadata": {},
          "execution_count": 49
        },
        {
          "output_type": "display_data",
          "data": {
            "image/png": "[encoded data removed]",
            "text/plain": [
              "<Figure size 432x288 with 2 Axes>"
            ]
          },
          "metadata": {
            "needs_background": "light"
          }
        }
      ]
    },
    {
      "cell_type": "code",
      "metadata": {
        "id": "SKXT4tUUjNbL",
        "colab": {
          "base_uri": "https://localhost:8080/",
          "height": 492
        },
        "outputId": "2391abc6-2de9-4eac-fb28-2a2e1189da1e"
      },
      "source": [
        "columns_show=['views', 'likes', 'dislikes', 'comment_total']\n",
        "f, ax = plt.subplots(figsize=(8, 8))\n",
        "corr = us_videos[columns_show].corr()\n",
        "sns.heatmap(corr, mask=np.zeros_like(corr, dtype=np.bool), cmap=sns.diverging_palette(220, 10, as_cmap=True),\n",
        "            square=True, ax=ax,annot=True)"
      ],
      "execution_count": 50,
      "outputs": [
        {
          "output_type": "execute_result",
          "data": {
            "text/plain": [
              "<matplotlib.axes._subplots.AxesSubplot at 0x7f05534c3c10>"
            ]
          },
          "metadata": {},
          "execution_count": 50
        },
        {
          "output_type": "display_data",
          "data": {
            "image/png": "[encoded data removed]",
            "text/plain": [
              "<Figure size 576x576 with 2 Axes>"
            ]
          },
          "metadata": {
            "needs_background": "light"
          }
        }
      ]
    },
    {
      "cell_type": "markdown",
      "metadata": {
        "id": "m7cVTylJIha3"
      },
      "source": [
        "In the above matrix, for USA dataset, the columns with :-\n",
        "\n",
        "- High Correlation - Views and Likes,, Comment_count and Dislikes\n",
        "- Medium Correlation - Views and Dislikes, Views and Comment_count, Likes and comment_total\n",
        "- Low Correlation - Likes and Dislikes"
      ]
    },
    {
      "cell_type": "code",
      "metadata": {
        "id": "H-Ean0xNIOi3",
        "colab": {
          "base_uri": "https://localhost:8080/"
        },
        "outputId": "a00ae221-8e7c-4d2d-ca84-43b484e2408f"
      },
      "source": [
        "us_videos['tags'].head(10)"
      ],
      "execution_count": 51,
      "outputs": [
        {
          "output_type": "execute_result",
          "data": {
            "text/plain": [
              "0    logan paul vlog logan paul logan paul olympics...\n",
              "1    apple iphone 10 iphone ten iphone portrait lig...\n",
              "2                                                 none\n",
              "3    apple iphone x hands apple iphone x iphone x a...\n",
              "4    jacksfilms parody parodies iphone iphone x iph...\n",
              "5    a24 a24 films a24 trailers independent films t...\n",
              "6    late night seth meyers check hud ben carson nb...\n",
              "7    iphone x iphone x iphone 10 iphone x impressio...\n",
              "8    roman atwood roman atwood roman atwood vlogs f...\n",
              "9    screenjunkies screen junkies screenjunkies new...\n",
              "Name: tags, dtype: object"
            ]
          },
          "metadata": {},
          "execution_count": 51
        }
      ]
    },
    {
      "cell_type": "code",
      "metadata": {
        "id": "15PztWjSomAB",
        "colab": {
          "base_uri": "https://localhost:8080/",
          "height": 308
        },
        "outputId": "c5f285e4-0e5d-446b-8007-78baf7431bbf"
      },
      "source": [
        "us_videos[['views','likes']].plot(kind='scatter', x='views', y='likes')"
      ],
      "execution_count": 52,
      "outputs": [
        {
          "output_type": "execute_result",
          "data": {
            "text/plain": [
              "<matplotlib.axes._subplots.AxesSubplot at 0x7f05552abd10>"
            ]
          },
          "metadata": {},
          "execution_count": 52
        },
        {
          "output_type": "display_data",
          "data": {
            "image/png": "[encoded data removed]",
            "text/plain": [
              "<Figure size 432x288 with 1 Axes>"
            ]
          },
          "metadata": {
            "needs_background": "light"
          }
        }
      ]
    },
    {
      "cell_type": "code",
      "metadata": {
        "id": "s9sVfZP6qJSn",
        "colab": {
          "base_uri": "https://localhost:8080/",
          "height": 425
        },
        "outputId": "9c72bcba-3239-4cb5-88b9-0e9194714752"
      },
      "source": [
        "df_us_channel = (\n",
        "    us_videos\n",
        "    .assign(\n",
        "        log_likes = lambda x: np.log(x.likes + 0.5)\n",
        "    )\n",
        "    .groupby('channel_title')\n",
        "    .agg({\n",
        "        'video_id':'nunique',\n",
        "        'likes': ['mean', 'std'],\n",
        "        'log_likes': ['mean', 'std'],\n",
        "        'views': 'mean',\n",
        "    })\n",
        "    .sort_values(('video_id', 'nunique'), ascending=False)\n",
        ")\n",
        "df_us_channel.head(10)\n",
        "#reference: https://www.kaggle.com/stuartday274/youtube-predicting-likes\n"
      ],
      "execution_count": 56,
      "outputs": [
        {
          "output_type": "execute_result",
          "data": {
            "text/html": [
              "<div>\n",
              "<style scoped>\n",
              "    .dataframe tbody tr th:only-of-type {\n",
              "        vertical-align: middle;\n",
              "    }\n",
              "\n",
              "    .dataframe tbody tr th {\n",
              "        vertical-align: top;\n",
              "    }\n",
              "\n",
              "    .dataframe thead tr th {\n",
              "        text-align: left;\n",
              "    }\n",
              "\n",
              "    .dataframe thead tr:last-of-type th {\n",
              "        text-align: right;\n",
              "    }\n",
              "</style>\n",
              "<table border=\"1\" class=\"dataframe\">\n",
              "  <thead>\n",
              "    <tr>\n",
              "      <th></th>\n",
              "      <th>video_id</th>\n",
              "      <th colspan=\"2\" halign=\"left\">likes</th>\n",
              "      <th colspan=\"2\" halign=\"left\">log_likes</th>\n",
              "      <th>views</th>\n",
              "    </tr>\n",
              "    <tr>\n",
              "      <th></th>\n",
              "      <th>nunique</th>\n",
              "      <th>mean</th>\n",
              "      <th>std</th>\n",
              "      <th>mean</th>\n",
              "      <th>std</th>\n",
              "      <th>mean</th>\n",
              "    </tr>\n",
              "    <tr>\n",
              "      <th>channel_title</th>\n",
              "      <th></th>\n",
              "      <th></th>\n",
              "      <th></th>\n",
              "      <th></th>\n",
              "      <th></th>\n",
              "      <th></th>\n",
              "    </tr>\n",
              "  </thead>\n",
              "  <tbody>\n",
              "    <tr>\n",
              "      <th>tonight show starring jimmy fallon</th>\n",
              "      <td>21</td>\n",
              "      <td>19069.789474</td>\n",
              "      <td>18479.644577</td>\n",
              "      <td>9.543987</td>\n",
              "      <td>0.759677</td>\n",
              "      <td>8.374148e+05</td>\n",
              "    </tr>\n",
              "    <tr>\n",
              "      <th>vox</th>\n",
              "      <td>20</td>\n",
              "      <td>16889.250000</td>\n",
              "      <td>7053.290110</td>\n",
              "      <td>9.654746</td>\n",
              "      <td>0.400475</td>\n",
              "      <td>4.644381e+05</td>\n",
              "    </tr>\n",
              "    <tr>\n",
              "      <th>jimmy kimmel live</th>\n",
              "      <td>18</td>\n",
              "      <td>30448.250000</td>\n",
              "      <td>48073.125766</td>\n",
              "      <td>9.526976</td>\n",
              "      <td>1.212614</td>\n",
              "      <td>1.661808e+06</td>\n",
              "    </tr>\n",
              "    <tr>\n",
              "      <th>refinery29</th>\n",
              "      <td>17</td>\n",
              "      <td>491.638889</td>\n",
              "      <td>324.271064</td>\n",
              "      <td>6.005185</td>\n",
              "      <td>0.636690</td>\n",
              "      <td>2.089183e+04</td>\n",
              "    </tr>\n",
              "    <tr>\n",
              "      <th>ellenshow</th>\n",
              "      <td>16</td>\n",
              "      <td>30834.184211</td>\n",
              "      <td>52270.888517</td>\n",
              "      <td>9.353392</td>\n",
              "      <td>1.353587</td>\n",
              "      <td>1.238547e+06</td>\n",
              "    </tr>\n",
              "    <tr>\n",
              "      <th>nfl</th>\n",
              "      <td>15</td>\n",
              "      <td>6447.184211</td>\n",
              "      <td>4468.365097</td>\n",
              "      <td>8.385614</td>\n",
              "      <td>1.110290</td>\n",
              "      <td>6.892325e+05</td>\n",
              "    </tr>\n",
              "    <tr>\n",
              "      <th>netflix</th>\n",
              "      <td>14</td>\n",
              "      <td>53590.837838</td>\n",
              "      <td>86011.171499</td>\n",
              "      <td>9.721573</td>\n",
              "      <td>1.509410</td>\n",
              "      <td>1.857194e+06</td>\n",
              "    </tr>\n",
              "    <tr>\n",
              "      <th>late night seth meyers</th>\n",
              "      <td>13</td>\n",
              "      <td>16135.468750</td>\n",
              "      <td>12639.973178</td>\n",
              "      <td>9.084290</td>\n",
              "      <td>1.429365</td>\n",
              "      <td>1.211155e+06</td>\n",
              "    </tr>\n",
              "    <tr>\n",
              "      <th>late show stephen colbert</th>\n",
              "      <td>13</td>\n",
              "      <td>15603.366667</td>\n",
              "      <td>11960.618738</td>\n",
              "      <td>9.360964</td>\n",
              "      <td>0.835048</td>\n",
              "      <td>9.926203e+05</td>\n",
              "    </tr>\n",
              "    <tr>\n",
              "      <th>espn</th>\n",
              "      <td>13</td>\n",
              "      <td>5178.161290</td>\n",
              "      <td>4419.009196</td>\n",
              "      <td>7.855182</td>\n",
              "      <td>1.651781</td>\n",
              "      <td>5.343733e+05</td>\n",
              "    </tr>\n",
              "  </tbody>\n",
              "</table>\n",
              "</div>"
            ],
            "text/plain": [
              "                                   video_id  ...         views\n",
              "                                    nunique  ...          mean\n",
              "channel_title                                ...              \n",
              "tonight show starring jimmy fallon       21  ...  8.374148e+05\n",
              "vox                                      20  ...  4.644381e+05\n",
              "jimmy kimmel live                        18  ...  1.661808e+06\n",
              "refinery29                               17  ...  2.089183e+04\n",
              "ellenshow                                16  ...  1.238547e+06\n",
              "nfl                                      15  ...  6.892325e+05\n",
              "netflix                                  14  ...  1.857194e+06\n",
              "late night seth meyers                   13  ...  1.211155e+06\n",
              "late show stephen colbert                13  ...  9.926203e+05\n",
              "espn                                     13  ...  5.343733e+05\n",
              "\n",
              "[10 rows x 6 columns]"
            ]
          },
          "metadata": {},
          "execution_count": 56
        }
      ]
    }
  ]
}